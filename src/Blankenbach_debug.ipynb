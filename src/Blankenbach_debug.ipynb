{
 "cells": [
  {
   "cell_type": "code",
   "execution_count": 1,
   "metadata": {},
   "outputs": [],
   "source": [
    "# # Constant viscosity convection, Cartesian domain (benchmark)\n",
    "#\n",
    "#\n",
    "#\n",
    "# This example solves 2D dimensionless isoviscous thermal convection with a Rayleigh number, for comparison with the [Blankenbach et al. (1989) benchmark](https://academic.oup.com/gji/article/98/1/23/622167).\n",
    "#\n",
    "# We set up a v, p, T system in which we will solve for a steady-state T field in response to thermal boundary conditions and then use the steady-state T field to compute a stokes flow in response.\n",
    "\n",
    "# +tolerace\n",
    "import os\n",
    "os.environ[\"UW_TIMING_ENABLE\"] = \"1\"\n",
    "import petsc4py\n",
    "from petsc4py import PETSc\n",
    "\n",
    "\n",
    "import underworld3 as uw\n",
    "from underworld3.systems import Stokes\n",
    "from underworld3 import function\n",
    "\n",
    "import numpy as np\n",
    "import sympy\n"
   ]
  },
  {
   "cell_type": "code",
   "execution_count": 2,
   "metadata": {},
   "outputs": [],
   "source": [
    "# +\n",
    "##### Set some things\n",
    "Ra = 1e4 #### Rayleigh number\n",
    "eta0=1.e23\n",
    "\n",
    "k = 1.0 #### diffusivity\n",
    "\n",
    "res= 96 ### x and y res of box\n",
    "\n",
    "boxLength = 1.0\n",
    "boxHeight = 1.0\n",
    "tempMin   = 0.\n",
    "tempMax   = 1.\n",
    "\n",
    "viscosity = 1\n",
    "\n",
    "# +\n",
    "meshbox = uw.meshing.UnstructuredSimplexBox(\n",
    "    minCoords=(0.0, 0.0), maxCoords=(1.0, 1.0), cellSize=1.0 / res, regular=False, qdegree=3\n",
    ")"
   ]
  },
  {
   "cell_type": "code",
   "execution_count": 3,
   "metadata": {},
   "outputs": [],
   "source": [
    "infile = \"/Users/jgra0019/Documents/codes/uw3-dev/TALA-EBA-benchmark/conv_meshes/conv_run12_96\"\n",
    "#infile = \"/Users/jgra0019/Documents/codes/uw3-dev/TALA-EBA-benchmark/TALA_meshes/tala_res96_2\"\n",
    "\n",
    "outfig = '/Users/jgra0019/Documents/codes/uw3-dev/local-code/figs/conv12_96.png' \n",
    "outfig = None\n",
    "\n",
    "v_soln = uw.discretisation.MeshVariable(\"U\", meshbox, meshbox.dim, degree=2)\n",
    "p_soln = uw.discretisation.MeshVariable(\"P\", meshbox, 1, degree=1)\n",
    "t_soln = uw.discretisation.MeshVariable(\"T\", meshbox, 1, degree=3)\n",
    "# additional variable for the gradient\n",
    "dTdZ = uw.discretisation.MeshVariable(r\"\\partial T/ \\partial \\Z\", \n",
    "                                      meshbox, \n",
    "                                      1, \n",
    "                                      degree = 3) \n",
    "\n",
    "v_soln.read_from_vertex_checkpoint(infile + \".U.0.h5\", data_name=\"U\")\n",
    "p_soln.read_from_vertex_checkpoint(infile + \".P.0.h5\", data_name=\"P\")\n",
    "t_soln.read_from_vertex_checkpoint(infile + \".T.0.h5\", data_name=\"T\")\n",
    "\n",
    "x, z = meshbox.X\n",
    "\n",
    "# projection object to calculate the gradient along Z\n",
    "dTdZ_calc = uw.systems.Projection(meshbox, dTdZ)\n",
    "dTdZ_calc.uw_function = t_soln.sym.diff(z)[0]\n",
    "dTdZ_calc.smoothing = 1.0e-3\n",
    "dTdZ_calc.petsc_options.delValue(\"ksp_monitor\")"
   ]
  },
  {
   "cell_type": "code",
   "execution_count": 4,
   "metadata": {},
   "outputs": [],
   "source": [
    "# check the mesh if in a notebook / serial\n",
    "# allows you to visualise the mesh and the mesh variable\n",
    "'''FIXME: change this so it's better'''\n",
    "\n",
    "def plotFig(meshbox, s_field, v_field, s_field_name, save_fname = None, with_arrows = False, cmap = \"coolwarm\"): \n",
    "    \"\"\"\n",
    "    s_field - scalar field - corresponds to colors\n",
    "    v_field - vector field - usually the velocity - 2 components\n",
    "    \"\"\"\n",
    "    if uw.mpi.size == 1:\n",
    "\n",
    "        import numpy as np\n",
    "        import pyvista as pv\n",
    "        import vtk\n",
    "\n",
    "        pv.global_theme.background = \"white\"\n",
    "        pv.global_theme.window_size = [500, 500]\n",
    "        pv.global_theme.anti_aliasing = None #\"ssaa\", \"msaa\", \"fxaa\", or None\n",
    "        #pv.global_theme.jupyter_backend = \"panel\"\n",
    "        pv.global_theme.smooth_shading = True\n",
    "\n",
    "        meshbox.vtk(\"tmp_box_mesh.vtk\")\n",
    "        pvmesh = pv.read(\"tmp_box_mesh.vtk\")\n",
    "\n",
    "        velocity = np.zeros((meshbox.data.shape[0], 3))\n",
    "        velocity[:, 0] = uw.function.evaluate(v_field.sym[0], meshbox.data)\n",
    "        velocity[:, 1] = uw.function.evaluate(v_field.sym[1], meshbox.data)\n",
    "\n",
    "        #pvmesh.point_data[\"V\"] = velocity / 10\n",
    "\n",
    "        points = np.zeros((s_field.coords.shape[0], 3))\n",
    "        points[:, 0] = s_field.coords[:, 0]\n",
    "        points[:, 1] = s_field.coords[:, 1]\n",
    "\n",
    "        point_cloud = pv.PolyData(points)\n",
    "\n",
    "        with meshbox.access():\n",
    "            point_cloud.point_data[s_field_name] = uw.function.evaluate(s_field.fn, points[:, 0:2])\n",
    "\n",
    "        # point sources at cell centres\n",
    "        if meshbox._centroids.shape[0]%4 == 0:\n",
    "            skip = 4\n",
    "        elif meshbox._centroids.shape[0]%3 == 0:\n",
    "            skip = 3\n",
    "        elif meshbox._centroids.shape[0]%2 == 0:\n",
    "            skip = 2\n",
    "        else: \n",
    "            skip = 1\n",
    "\n",
    "        skip = 2\n",
    "        num_el =  meshbox._centroids[::skip, 0].shape[0]\n",
    "\n",
    "        cpoints = np.zeros((num_el, 3))\n",
    "        cpoints[:, 0] = meshbox._centroids[::skip, 0]\n",
    "        cpoints[:, 1] = meshbox._centroids[::skip, 1]\n",
    "\n",
    "        cpoint_cloud = pv.PolyData(cpoints)\n",
    "\n",
    "        # pvstream = pvmesh.streamlines_from_source(\n",
    "        #     cpoint_cloud,\n",
    "        #     vectors=\"V\",\n",
    "        #     integrator_type=2,\n",
    "        #     integration_direction=\"forward\",\n",
    "        #     compute_vorticity=False,\n",
    "        #     max_steps=1000,\n",
    "        #     surface_streamlines=True,\n",
    "        # )\n",
    " \n",
    "        pl = pv.Plotter()\n",
    "\n",
    "        with meshbox.access():\n",
    "            # point sources at cell centres\n",
    "            if v_field.coords.shape[0]%20 == 0:\n",
    "                skip = 20\n",
    "            elif v_field.coords.shape[0]%4 == 0:\n",
    "                skip = 4\n",
    "            elif v_field.coords.shape[0]%3 == 0:\n",
    "                skip = 3\n",
    "            elif v_field.coords.shape[0]%2 == 0:\n",
    "                skip = 2\n",
    "            else: \n",
    "                skip = 1\n",
    "            \n",
    "            skip = 2\n",
    "        \n",
    "            num_el =  v_field.coords[::skip, 0:2].shape[0]\n",
    "            arrow_loc = np.zeros((num_el, 3))\n",
    "            arrow_loc[:, 0:2] = v_field.coords[::skip, 0:2]\n",
    "\n",
    "            num_el =  v_field.data[::skip, 0].shape[0]\n",
    "            arrow_length = np.zeros((num_el, 3))\n",
    "            arrow_length[:, 0] = v_field.data[::skip, 0]\n",
    "            arrow_length[:, 1] = v_field.data[::skip, 1]\n",
    "\n",
    "        pl = pv.Plotter()\n",
    "\n",
    "        #pl.add_mesh(pvmesh,'Gray', 'wireframe')\n",
    "\n",
    "        pl.add_mesh(\n",
    "            pvmesh, cmap=cmap, edge_color=\"Black\",\n",
    "            show_edges=True, use_transparency=False, opacity=0.1,\n",
    "        )\n",
    "\n",
    "      \n",
    "        if with_arrows:\n",
    "            pl.add_arrows(arrow_loc, arrow_length, mag=0.04, opacity=0.8)\n",
    "        else:\n",
    "            pl.add_points(point_cloud, cmap=cmap, point_size=18, opacity=0.8)\n",
    "\n",
    "\n",
    "        # pl.add_mesh(pvstream, opacity=0.5)\n",
    "        # pl.add_arrows(arrow_loc2, arrow_length2, mag=1.0e-1)\n",
    "\n",
    "        # pl.add_points(pdata)\n",
    "\n",
    "        pl.show(cpos=\"xy\", jupyter_backend = \"panel\")\n",
    "\n",
    "        if save_fname is not None:\n",
    "            #pl.save_graphic(save_fname, dpi = 300)\n",
    "            pl.image_scale = 3\n",
    "            pl.screenshot(save_fname) \n",
    "\n",
    "        pvmesh.clear_data()\n",
    "        pvmesh.clear_point_data()\n",
    "        \n",
    "        \n",
    "#plotFig()"
   ]
  },
  {
   "cell_type": "code",
   "execution_count": 5,
   "metadata": {},
   "outputs": [
    {
     "data": {
      "text/plain": [
       "51.37593294100601"
      ]
     },
     "execution_count": 5,
     "metadata": {},
     "output_type": "execute_result"
    }
   ],
   "source": [
    "# underworld3 function for calculating the rms velocity \n",
    "import math\n",
    "\n",
    "def v_rms(mesh = meshbox, v_solution = v_soln): \n",
    "    # v_soln must be a variable of mesh\n",
    "    v_rms = math.sqrt(uw.maths.Integral(mesh, v_solution.fn.dot(v_solution.fn)).evaluate())\n",
    "    return v_rms\n",
    "\n",
    "v_rms()"
   ]
  },
  {
   "cell_type": "code",
   "execution_count": 6,
   "metadata": {},
   "outputs": [
    {
     "name": "stdout",
     "output_type": "stream",
     "text": [
      "  0 SNES Function norm 0.00682488 \n",
      "  1 SNES Function norm 9.7883e-06 \n",
      "  2 SNES Function norm 9.148e-11 \n",
      "Nonlinear SProj_1_ solve converged due to CONVERGED_FNORM_RELATIVE iterations 2\n"
     ]
    }
   ],
   "source": [
    "dTdZ_calc.solve() # solve dTdZ"
   ]
  },
  {
   "cell_type": "code",
   "execution_count": 7,
   "metadata": {},
   "outputs": [
    {
     "name": "stdout",
     "output_type": "stream",
     "text": [
      "3.653199332000905\n"
     ]
    }
   ],
   "source": [
    "# function for calculating the surface integral \n",
    "def surface_integral(mesh, uw_function, mask_fn):\n",
    "\n",
    "    calculator = uw.maths.Integral(mesh, uw_function * mask_fn)\n",
    "    value = calculator.evaluate()\n",
    "\n",
    "    calculator.fn = mask_fn\n",
    "    norm = calculator.evaluate()\n",
    "\n",
    "    integral = value / norm\n",
    "\n",
    "    return integral\n",
    "\n",
    "''' set-up surface expressions for calculating Nu number '''\n",
    "sdev = 0.5*(1/math.sqrt(2*math.log(2)))*(1/res) \n",
    "#sdev = 1/res\n",
    "up_surface_defn_fn = sympy.exp(-((z - 1)**2)/(2*sdev**2)) # at z = 1\n",
    "lw_surface_defn_fn = sympy.exp(-(z**2)/(2*sdev**2)) # at z = 0\n",
    "\n",
    "up_int = surface_integral(meshbox, dTdZ.sym[0], up_surface_defn_fn)\n",
    "lw_int = surface_integral(meshbox, t_soln.sym[0], lw_surface_defn_fn)\n",
    "\n",
    "Nu = -up_int/lw_int\n",
    "print(Nu)"
   ]
  },
  {
   "cell_type": "code",
   "execution_count": 10,
   "metadata": {},
   "outputs": [],
   "source": [
    "outfig"
   ]
  },
  {
   "cell_type": "code",
   "execution_count": 9,
   "metadata": {},
   "outputs": [
    {
     "data": {
      "application/javascript": "(function(root) {\n  function now() {\n    return new Date();\n  }\n\n  var force = true;\n\n  if (typeof root._bokeh_onload_callbacks === \"undefined\" || force === true) {\n    root._bokeh_onload_callbacks = [];\n    root._bokeh_is_loading = undefined;\n  }\n\n  if (typeof (root._bokeh_timeout) === \"undefined\" || force === true) {\n    root._bokeh_timeout = Date.now() + 5000;\n    root._bokeh_failed_load = false;\n  }\n\n  function run_callbacks() {\n    try {\n      root._bokeh_onload_callbacks.forEach(function(callback) {\n        if (callback != null)\n          callback();\n      });\n    } finally {\n      delete root._bokeh_onload_callbacks\n    }\n    console.debug(\"Bokeh: all callbacks have finished\");\n  }\n\n  function load_libs(css_urls, js_urls, js_modules, callback) {\n    if (css_urls == null) css_urls = [];\n    if (js_urls == null) js_urls = [];\n    if (js_modules == null) js_modules = [];\n\n    root._bokeh_onload_callbacks.push(callback);\n    if (root._bokeh_is_loading > 0) {\n      console.debug(\"Bokeh: BokehJS is being loaded, scheduling callback at\", now());\n      return null;\n    }\n    if (js_urls.length === 0 && js_modules.length === 0) {\n      run_callbacks();\n      return null;\n    }\n    console.debug(\"Bokeh: BokehJS not loaded, scheduling load and callback at\", now());\n\n    function on_load() {\n      root._bokeh_is_loading--;\n      if (root._bokeh_is_loading === 0) {\n        console.debug(\"Bokeh: all BokehJS libraries/stylesheets loaded\");\n        run_callbacks()\n      }\n    }\n\n    function on_error() {\n      console.error(\"failed to load \" + url);\n    }\n\n    for (var i = 0; i < css_urls.length; i++) {\n      var url = css_urls[i];\n      const element = document.createElement(\"link\");\n      element.onload = on_load;\n      element.onerror = on_error;\n      element.rel = \"stylesheet\";\n      element.type = \"text/css\";\n      element.href = url;\n      console.debug(\"Bokeh: injecting link tag for BokehJS stylesheet: \", url);\n      document.body.appendChild(element);\n    }\n\n    var skip = [];\n    if (window.requirejs) {\n      window.requirejs.config({'packages': {}, 'paths': {'vtk': 'https://cdn.jsdelivr.net/npm/vtk.js@20.0.1/vtk', 'gridstack': 'https://cdn.jsdelivr.net/npm/gridstack@4.2.5/dist/gridstack-h5', 'notyf': 'https://cdn.jsdelivr.net/npm/notyf@3/notyf.min'}, 'shim': {'vtk': {'exports': 'vtk'}, 'gridstack': {'exports': 'GridStack'}}});\n      require([\"vtk\"], function() {\n\ton_load()\n      })\n      require([\"gridstack\"], function(GridStack) {\n\twindow.GridStack = GridStack\n\ton_load()\n      })\n      require([\"notyf\"], function() {\n\ton_load()\n      })\n      root._bokeh_is_loading = css_urls.length + 3;\n    } else {\n      root._bokeh_is_loading = css_urls.length + js_urls.length + js_modules.length;\n    }    if (((window['vtk'] !== undefined) && (!(window['vtk'] instanceof HTMLElement))) || window.requirejs) {\n      var urls = ['https://cdn.holoviz.org/panel/0.14.4/dist/bundled/abstractvtkplot/vtk.js@20.0.1/vtk.js'];\n      for (var i = 0; i < urls.length; i++) {\n        skip.push(urls[i])\n      }\n    }    if (((window['GridStack'] !== undefined) && (!(window['GridStack'] instanceof HTMLElement))) || window.requirejs) {\n      var urls = ['https://cdn.holoviz.org/panel/0.14.4/dist/bundled/gridstack/gridstack@4.2.5/dist/gridstack-h5.js'];\n      for (var i = 0; i < urls.length; i++) {\n        skip.push(urls[i])\n      }\n    }    if (((window['Notyf'] !== undefined) && (!(window['Notyf'] instanceof HTMLElement))) || window.requirejs) {\n      var urls = ['https://cdn.holoviz.org/panel/0.14.4/dist/bundled/notificationarea/notyf@3/notyf.min.js'];\n      for (var i = 0; i < urls.length; i++) {\n        skip.push(urls[i])\n      }\n    }    for (var i = 0; i < js_urls.length; i++) {\n      var url = js_urls[i];\n      if (skip.indexOf(url) >= 0) {\n\tif (!window.requirejs) {\n\t  on_load();\n\t}\n\tcontinue;\n      }\n      var element = document.createElement('script');\n      element.onload = on_load;\n      element.onerror = on_error;\n      element.async = false;\n      element.src = url;\n      console.debug(\"Bokeh: injecting script tag for BokehJS library: \", url);\n      document.head.appendChild(element);\n    }\n    for (var i = 0; i < js_modules.length; i++) {\n      var url = js_modules[i];\n      if (skip.indexOf(url) >= 0) {\n\tif (!window.requirejs) {\n\t  on_load();\n\t}\n\tcontinue;\n      }\n      var element = document.createElement('script');\n      element.onload = on_load;\n      element.onerror = on_error;\n      element.async = false;\n      element.src = url;\n      element.type = \"module\";\n      console.debug(\"Bokeh: injecting script tag for BokehJS library: \", url);\n      document.head.appendChild(element);\n    }\n    if (!js_urls.length && !js_modules.length) {\n      on_load()\n    }\n  };\n\n  function inject_raw_css(css) {\n    const element = document.createElement(\"style\");\n    element.appendChild(document.createTextNode(css));\n    document.body.appendChild(element);\n  }\n\n  var js_urls = [\"https://cdn.holoviz.org/panel/0.14.4/dist/bundled/abstractvtkplot/vtk.js@20.0.1/vtk.js\", \"https://cdn.bokeh.org/bokeh/release/bokeh-2.4.3.min.js\", \"https://cdn.bokeh.org/bokeh/release/bokeh-gl-2.4.3.min.js\", \"https://cdn.bokeh.org/bokeh/release/bokeh-widgets-2.4.3.min.js\", \"https://cdn.bokeh.org/bokeh/release/bokeh-tables-2.4.3.min.js\", \"https://cdn.bokeh.org/bokeh/release/bokeh-mathjax-2.4.3.min.js\", \"https://unpkg.com/@holoviz/panel@0.14.4/dist/panel.min.js\"];\n  var js_modules = [];\n  var css_urls = [\"https://cdn.holoviz.org/panel/0.14.4/dist/css/debugger.css\", \"https://cdn.holoviz.org/panel/0.14.4/dist/css/alerts.css\", \"https://cdn.holoviz.org/panel/0.14.4/dist/css/card.css\", \"https://cdn.holoviz.org/panel/0.14.4/dist/css/widgets.css\", \"https://cdn.holoviz.org/panel/0.14.4/dist/css/markdown.css\", \"https://cdn.holoviz.org/panel/0.14.4/dist/css/json.css\", \"https://cdn.holoviz.org/panel/0.14.4/dist/css/loading.css\", \"https://cdn.holoviz.org/panel/0.14.4/dist/css/dataframe.css\"];\n  var inline_js = [    function(Bokeh) {\n      inject_raw_css(\"\\n    .bk.pn-loading.arc:before {\\n      background-image: url(\\\"data:image/svg+xml;base64,PHN2ZyB4bWxucz0iaHR0cDovL3d3dy53My5vcmcvMjAwMC9zdmciIHN0eWxlPSJtYXJnaW46IGF1dG87IGJhY2tncm91bmQ6IG5vbmU7IGRpc3BsYXk6IGJsb2NrOyBzaGFwZS1yZW5kZXJpbmc6IGF1dG87IiB2aWV3Qm94PSIwIDAgMTAwIDEwMCIgcHJlc2VydmVBc3BlY3RSYXRpbz0ieE1pZFlNaWQiPiAgPGNpcmNsZSBjeD0iNTAiIGN5PSI1MCIgZmlsbD0ibm9uZSIgc3Ryb2tlPSIjYzNjM2MzIiBzdHJva2Utd2lkdGg9IjEwIiByPSIzNSIgc3Ryb2tlLWRhc2hhcnJheT0iMTY0LjkzMzYxNDMxMzQ2NDE1IDU2Ljk3Nzg3MTQzNzgyMTM4Ij4gICAgPGFuaW1hdGVUcmFuc2Zvcm0gYXR0cmlidXRlTmFtZT0idHJhbnNmb3JtIiB0eXBlPSJyb3RhdGUiIHJlcGVhdENvdW50PSJpbmRlZmluaXRlIiBkdXI9IjFzIiB2YWx1ZXM9IjAgNTAgNTA7MzYwIDUwIDUwIiBrZXlUaW1lcz0iMDsxIj48L2FuaW1hdGVUcmFuc2Zvcm0+ICA8L2NpcmNsZT48L3N2Zz4=\\\");\\n      background-size: auto calc(min(50%, 400px));\\n    }\\n    \");\n    },    function(Bokeh) {\n      Bokeh.set_log_level(\"info\");\n    },\nfunction(Bokeh) {} // ensure no trailing comma for IE\n  ];\n\n  function run_inline_js() {\n    if ((root.Bokeh !== undefined) || (force === true)) {\n      for (var i = 0; i < inline_js.length; i++) {\n        inline_js[i].call(root, root.Bokeh);\n      }} else if (Date.now() < root._bokeh_timeout) {\n      setTimeout(run_inline_js, 100);\n    } else if (!root._bokeh_failed_load) {\n      console.log(\"Bokeh: BokehJS failed to load within specified timeout.\");\n      root._bokeh_failed_load = true;\n    }\n  }\n\n  if (root._bokeh_is_loading === 0) {\n    console.debug(\"Bokeh: BokehJS loaded, going straight to plotting\");\n    run_inline_js();\n  } else {\n    load_libs(css_urls, js_urls, js_modules, function() {\n      console.debug(\"Bokeh: BokehJS plotting callback run at\", now());\n      run_inline_js();\n    });\n  }\n}(window));",
      "application/vnd.holoviews_load.v0+json": ""
     },
     "metadata": {},
     "output_type": "display_data"
    },
    {
     "data": {
      "application/javascript": "\nif ((window.PyViz === undefined) || (window.PyViz instanceof HTMLElement)) {\n  window.PyViz = {comms: {}, comm_status:{}, kernels:{}, receivers: {}, plot_index: []}\n}\n\n\n    function JupyterCommManager() {\n    }\n\n    JupyterCommManager.prototype.register_target = function(plot_id, comm_id, msg_handler) {\n      if (window.comm_manager || ((window.Jupyter !== undefined) && (Jupyter.notebook.kernel != null))) {\n        var comm_manager = window.comm_manager || Jupyter.notebook.kernel.comm_manager;\n        comm_manager.register_target(comm_id, function(comm) {\n          comm.on_msg(msg_handler);\n        });\n      } else if ((plot_id in window.PyViz.kernels) && (window.PyViz.kernels[plot_id])) {\n        window.PyViz.kernels[plot_id].registerCommTarget(comm_id, function(comm) {\n          comm.onMsg = msg_handler;\n        });\n      } else if (typeof google != 'undefined' && google.colab.kernel != null) {\n        google.colab.kernel.comms.registerTarget(comm_id, (comm) => {\n          var messages = comm.messages[Symbol.asyncIterator]();\n          function processIteratorResult(result) {\n            var message = result.value;\n            console.log(message)\n            var content = {data: message.data, comm_id};\n            var buffers = []\n            for (var buffer of message.buffers || []) {\n              buffers.push(new DataView(buffer))\n            }\n            var metadata = message.metadata || {};\n            var msg = {content, buffers, metadata}\n            msg_handler(msg);\n            return messages.next().then(processIteratorResult);\n          }\n          return messages.next().then(processIteratorResult);\n        })\n      }\n    }\n\n    JupyterCommManager.prototype.get_client_comm = function(plot_id, comm_id, msg_handler) {\n      if (comm_id in window.PyViz.comms) {\n        return window.PyViz.comms[comm_id];\n      } else if (window.comm_manager || ((window.Jupyter !== undefined) && (Jupyter.notebook.kernel != null))) {\n        var comm_manager = window.comm_manager || Jupyter.notebook.kernel.comm_manager;\n        var comm = comm_manager.new_comm(comm_id, {}, {}, {}, comm_id);\n        if (msg_handler) {\n          comm.on_msg(msg_handler);\n        }\n      } else if ((plot_id in window.PyViz.kernels) && (window.PyViz.kernels[plot_id])) {\n        var comm = window.PyViz.kernels[plot_id].connectToComm(comm_id);\n        comm.open();\n        if (msg_handler) {\n          comm.onMsg = msg_handler;\n        }\n      } else if (typeof google != 'undefined' && google.colab.kernel != null) {\n        var comm_promise = google.colab.kernel.comms.open(comm_id)\n        comm_promise.then((comm) => {\n          window.PyViz.comms[comm_id] = comm;\n          if (msg_handler) {\n            var messages = comm.messages[Symbol.asyncIterator]();\n            function processIteratorResult(result) {\n              var message = result.value;\n              var content = {data: message.data};\n              var metadata = message.metadata || {comm_id};\n              var msg = {content, metadata}\n              msg_handler(msg);\n              return messages.next().then(processIteratorResult);\n            }\n            return messages.next().then(processIteratorResult);\n          }\n        }) \n        var sendClosure = (data, metadata, buffers, disposeOnDone) => {\n          return comm_promise.then((comm) => {\n            comm.send(data, metadata, buffers, disposeOnDone);\n          });\n        };\n        var comm = {\n          send: sendClosure\n        };\n      }\n      window.PyViz.comms[comm_id] = comm;\n      return comm;\n    }\n    window.PyViz.comm_manager = new JupyterCommManager();\n    \n\n\nvar JS_MIME_TYPE = 'application/javascript';\nvar HTML_MIME_TYPE = 'text/html';\nvar EXEC_MIME_TYPE = 'application/vnd.holoviews_exec.v0+json';\nvar CLASS_NAME = 'output';\n\n/**\n * Render data to the DOM node\n */\nfunction render(props, node) {\n  var div = document.createElement(\"div\");\n  var script = document.createElement(\"script\");\n  node.appendChild(div);\n  node.appendChild(script);\n}\n\n/**\n * Handle when a new output is added\n */\nfunction handle_add_output(event, handle) {\n  var output_area = handle.output_area;\n  var output = handle.output;\n  if ((output.data == undefined) || (!output.data.hasOwnProperty(EXEC_MIME_TYPE))) {\n    return\n  }\n  var id = output.metadata[EXEC_MIME_TYPE][\"id\"];\n  var toinsert = output_area.element.find(\".\" + CLASS_NAME.split(' ')[0]);\n  if (id !== undefined) {\n    var nchildren = toinsert.length;\n    var html_node = toinsert[nchildren-1].children[0];\n    html_node.innerHTML = output.data[HTML_MIME_TYPE];\n    var scripts = [];\n    var nodelist = html_node.querySelectorAll(\"script\");\n    for (var i in nodelist) {\n      if (nodelist.hasOwnProperty(i)) {\n        scripts.push(nodelist[i])\n      }\n    }\n\n    scripts.forEach( function (oldScript) {\n      var newScript = document.createElement(\"script\");\n      var attrs = [];\n      var nodemap = oldScript.attributes;\n      for (var j in nodemap) {\n        if (nodemap.hasOwnProperty(j)) {\n          attrs.push(nodemap[j])\n        }\n      }\n      attrs.forEach(function(attr) { newScript.setAttribute(attr.name, attr.value) });\n      newScript.appendChild(document.createTextNode(oldScript.innerHTML));\n      oldScript.parentNode.replaceChild(newScript, oldScript);\n    });\n    if (JS_MIME_TYPE in output.data) {\n      toinsert[nchildren-1].children[1].textContent = output.data[JS_MIME_TYPE];\n    }\n    output_area._hv_plot_id = id;\n    if ((window.Bokeh !== undefined) && (id in Bokeh.index)) {\n      window.PyViz.plot_index[id] = Bokeh.index[id];\n    } else {\n      window.PyViz.plot_index[id] = null;\n    }\n  } else if (output.metadata[EXEC_MIME_TYPE][\"server_id\"] !== undefined) {\n    var bk_div = document.createElement(\"div\");\n    bk_div.innerHTML = output.data[HTML_MIME_TYPE];\n    var script_attrs = bk_div.children[0].attributes;\n    for (var i = 0; i < script_attrs.length; i++) {\n      toinsert[toinsert.length - 1].childNodes[1].setAttribute(script_attrs[i].name, script_attrs[i].value);\n    }\n    // store reference to server id on output_area\n    output_area._bokeh_server_id = output.metadata[EXEC_MIME_TYPE][\"server_id\"];\n  }\n}\n\n/**\n * Handle when an output is cleared or removed\n */\nfunction handle_clear_output(event, handle) {\n  var id = handle.cell.output_area._hv_plot_id;\n  var server_id = handle.cell.output_area._bokeh_server_id;\n  if (((id === undefined) || !(id in PyViz.plot_index)) && (server_id !== undefined)) { return; }\n  var comm = window.PyViz.comm_manager.get_client_comm(\"hv-extension-comm\", \"hv-extension-comm\", function () {});\n  if (server_id !== null) {\n    comm.send({event_type: 'server_delete', 'id': server_id});\n    return;\n  } else if (comm !== null) {\n    comm.send({event_type: 'delete', 'id': id});\n  }\n  delete PyViz.plot_index[id];\n  if ((window.Bokeh !== undefined) & (id in window.Bokeh.index)) {\n    var doc = window.Bokeh.index[id].model.document\n    doc.clear();\n    const i = window.Bokeh.documents.indexOf(doc);\n    if (i > -1) {\n      window.Bokeh.documents.splice(i, 1);\n    }\n  }\n}\n\n/**\n * Handle kernel restart event\n */\nfunction handle_kernel_cleanup(event, handle) {\n  delete PyViz.comms[\"hv-extension-comm\"];\n  window.PyViz.plot_index = {}\n}\n\n/**\n * Handle update_display_data messages\n */\nfunction handle_update_output(event, handle) {\n  handle_clear_output(event, {cell: {output_area: handle.output_area}})\n  handle_add_output(event, handle)\n}\n\nfunction register_renderer(events, OutputArea) {\n  function append_mime(data, metadata, element) {\n    // create a DOM node to render to\n    var toinsert = this.create_output_subarea(\n    metadata,\n    CLASS_NAME,\n    EXEC_MIME_TYPE\n    );\n    this.keyboard_manager.register_events(toinsert);\n    // Render to node\n    var props = {data: data, metadata: metadata[EXEC_MIME_TYPE]};\n    render(props, toinsert[0]);\n    element.append(toinsert);\n    return toinsert\n  }\n\n  events.on('output_added.OutputArea', handle_add_output);\n  events.on('output_updated.OutputArea', handle_update_output);\n  events.on('clear_output.CodeCell', handle_clear_output);\n  events.on('delete.Cell', handle_clear_output);\n  events.on('kernel_ready.Kernel', handle_kernel_cleanup);\n\n  OutputArea.prototype.register_mime_type(EXEC_MIME_TYPE, append_mime, {\n    safe: true,\n    index: 0\n  });\n}\n\nif (window.Jupyter !== undefined) {\n  try {\n    var events = require('base/js/events');\n    var OutputArea = require('notebook/js/outputarea').OutputArea;\n    if (OutputArea.prototype.mime_types().indexOf(EXEC_MIME_TYPE) == -1) {\n      register_renderer(events, OutputArea);\n    }\n  } catch(err) {\n  }\n}\n",
      "application/vnd.holoviews_load.v0+json": ""
     },
     "metadata": {},
     "output_type": "display_data"
    },
    {
     "data": {
      "text/html": [
       "<style>.bk-root, .bk-root .bk:before, .bk-root .bk:after {\n",
       "  font-family: var(--jp-ui-font-size1);\n",
       "  font-size: var(--jp-ui-font-size1);\n",
       "  color: var(--jp-ui-font-color1);\n",
       "}\n",
       "</style>"
      ]
     },
     "metadata": {},
     "output_type": "display_data"
    },
    {
     "data": {
      "application/vnd.jupyter.widget-view+json": {
       "model_id": "f09b476c62a74d36b01236e654d13dba",
       "version_major": 2,
       "version_minor": 0
      },
      "text/plain": [
       "BokehModel(combine_events=True, render_bundle={'docs_json': {'50c8247d-f863-4c44-a2d0-f7d97ce12d57': {'defs': …"
      ]
     },
     "metadata": {},
     "output_type": "display_data"
    }
   ],
   "source": [
    "plotFig(meshbox, t_soln, v_soln, \"T\", save_fname = outfig, with_arrows = False)"
   ]
  },
  {
   "cell_type": "code",
   "execution_count": null,
   "metadata": {},
   "outputs": [],
   "source": []
  }
 ],
 "metadata": {
  "kernelspec": {
   "display_name": "uw3",
   "language": "python",
   "name": "python3"
  },
  "language_info": {
   "codemirror_mode": {
    "name": "ipython",
    "version": 3
   },
   "file_extension": ".py",
   "mimetype": "text/x-python",
   "name": "python",
   "nbconvert_exporter": "python",
   "pygments_lexer": "ipython3",
   "version": "3.10.9"
  },
  "orig_nbformat": 4,
  "vscode": {
   "interpreter": {
    "hash": "cd4dcea649706b13a4ce5f6a40dd21bb537c751624ad4b7e559852e2fd2a02c5"
   }
  }
 },
 "nbformat": 4,
 "nbformat_minor": 2
}
