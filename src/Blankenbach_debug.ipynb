{
 "cells": [
  {
   "cell_type": "code",
   "execution_count": 10,
   "metadata": {},
   "outputs": [],
   "source": [
    "# # Constant viscosity convection, Cartesian domain (benchmark)\n",
    "#\n",
    "#\n",
    "#\n",
    "# This example solves 2D dimensionless isoviscous thermal convection with a Rayleigh number, for comparison with the [Blankenbach et al. (1989) benchmark](https://academic.oup.com/gji/article/98/1/23/622167).\n",
    "#\n",
    "# We set up a v, p, T system in which we will solve for a steady-state T field in response to thermal boundary conditions and then use the steady-state T field to compute a stokes flow in response.\n",
    "\n",
    "# +tolerace\n",
    "import os\n",
    "os.environ[\"UW_TIMING_ENABLE\"] = \"1\"\n",
    "import petsc4py\n",
    "from petsc4py import PETSc\n",
    "\n",
    "\n",
    "import underworld3 as uw\n",
    "from underworld3.systems import Stokes\n",
    "from underworld3 import function\n",
    "\n",
    "import numpy as np\n",
    "import sympy\n"
   ]
  },
  {
   "cell_type": "code",
   "execution_count": 11,
   "metadata": {},
   "outputs": [
    {
     "name": "stdout",
     "output_type": "stream",
     "text": [
      "Processing gmsh file .meshes/uw_simplexbox_minC(0.0, 0.0)_maxC(1.0, 1.0)_csize0.010416666666666666_regFalse.msh\n",
      "Mesh saved to .meshes/uw_simplexbox_minC(0.0, 0.0)_maxC(1.0, 1.0)_csize0.010416666666666666_regFalse.msh.h5\n"
     ]
    }
   ],
   "source": [
    "# +\n",
    "##### Set some things\n",
    "Ra = 1e4 #### Rayleigh number\n",
    "eta0=1.e23\n",
    "\n",
    "k = 1.0 #### diffusivity\n",
    "\n",
    "res= 96 ### x and y res of box\n",
    "\n",
    "boxLength = 1.0\n",
    "boxHeight = 1.0\n",
    "tempMin   = 0.\n",
    "tempMax   = 1.\n",
    "\n",
    "viscosity = 1\n",
    "\n",
    "# +\n",
    "meshbox = uw.meshing.UnstructuredSimplexBox(\n",
    "    minCoords=(0.0, 0.0), maxCoords=(1.0, 1.0), cellSize=1.0 / res, regular=False, qdegree=3\n",
    ")"
   ]
  },
  {
   "cell_type": "code",
   "execution_count": 12,
   "metadata": {},
   "outputs": [],
   "source": [
    "infile = \"/Users/jgra0019/Documents/codes/uw3-dev/TALA-EBA-benchmark/conv_meshes/conv_run12_96\"\n",
    "infile = \"/Users/jcgraciosa/Documents/codes/uw3-dev/convection-out-gadi/Bla4/conv4_run2_96\"\n",
    "#infile = \"/Users/jgra0019/Documents/codes/uw3-dev/TALA-EBA-benchmark/TALA_meshes/tala_res96_2\"\n",
    "\n",
    "outfig = '/Users/jgra0019/Documents/codes/uw3-dev/local-code/figs/conv12_96.png' \n",
    "outfig = None\n",
    "\n",
    "v_soln = uw.discretisation.MeshVariable(\"U\", meshbox, meshbox.dim, degree=2)\n",
    "p_soln = uw.discretisation.MeshVariable(\"P\", meshbox, 1, degree=1)\n",
    "t_soln = uw.discretisation.MeshVariable(\"T\", meshbox, 1, degree=3)\n",
    "# additional variable for the gradient\n",
    "dTdZ = uw.discretisation.MeshVariable(r\"\\partial T/ \\partial \\Z\", \n",
    "                                      meshbox, \n",
    "                                      1, \n",
    "                                      degree = 3) \n",
    "\n",
    "v_soln.read_from_vertex_checkpoint(infile + \".U.0.h5\", data_name=\"U\")\n",
    "p_soln.read_from_vertex_checkpoint(infile + \".P.0.h5\", data_name=\"P\")\n",
    "t_soln.read_from_vertex_checkpoint(infile + \".T.0.h5\", data_name=\"T\")\n",
    "\n",
    "x, z = meshbox.X\n",
    "\n",
    "# projection object to calculate the gradient along Z\n",
    "dTdZ_calc = uw.systems.Projection(meshbox, dTdZ)\n",
    "dTdZ_calc.uw_function = t_soln.sym.diff(z)[0]\n",
    "dTdZ_calc.smoothing = 1.0e-3\n",
    "dTdZ_calc.petsc_options.delValue(\"ksp_monitor\")"
   ]
  },
  {
   "cell_type": "code",
   "execution_count": 13,
   "metadata": {},
   "outputs": [],
   "source": [
    "# check the mesh if in a notebook / serial\n",
    "# allows you to visualise the mesh and the mesh variable\n",
    "'''FIXME: change this so it's better'''\n",
    "\n",
    "def plotFig(meshbox, s_field, v_field, s_field_name, save_fname = None, with_arrows = False, cmap = \"coolwarm\"): \n",
    "    \"\"\"\n",
    "    s_field - scalar field - corresponds to colors\n",
    "    v_field - vector field - usually the velocity - 2 components\n",
    "    \"\"\"\n",
    "    if uw.mpi.size == 1:\n",
    "\n",
    "        import numpy as np\n",
    "        import pyvista as pv\n",
    "        import vtk\n",
    "\n",
    "        pv.global_theme.background = \"white\"\n",
    "        pv.global_theme.window_size = [500, 500]\n",
    "        pv.global_theme.anti_aliasing = None #\"ssaa\", \"msaa\", \"fxaa\", or None\n",
    "        #pv.global_theme.jupyter_backend = \"panel\"\n",
    "        pv.global_theme.smooth_shading = True\n",
    "\n",
    "        meshbox.vtk(\"tmp_box_mesh.vtk\")\n",
    "        pvmesh = pv.read(\"tmp_box_mesh.vtk\")\n",
    "\n",
    "        velocity = np.zeros((meshbox.data.shape[0], 3))\n",
    "        velocity[:, 0] = uw.function.evaluate(v_field.sym[0], meshbox.data)\n",
    "        velocity[:, 1] = uw.function.evaluate(v_field.sym[1], meshbox.data)\n",
    "\n",
    "        #pvmesh.point_data[\"V\"] = velocity / 10\n",
    "\n",
    "        points = np.zeros((s_field.coords.shape[0], 3))\n",
    "        points[:, 0] = s_field.coords[:, 0]\n",
    "        points[:, 1] = s_field.coords[:, 1]\n",
    "\n",
    "        point_cloud = pv.PolyData(points)\n",
    "\n",
    "        with meshbox.access():\n",
    "            point_cloud.point_data[s_field_name] = uw.function.evaluate(s_field.fn, points[:, 0:2])\n",
    "\n",
    "        # point sources at cell centres\n",
    "        if meshbox._centroids.shape[0]%4 == 0:\n",
    "            skip = 4\n",
    "        elif meshbox._centroids.shape[0]%3 == 0:\n",
    "            skip = 3\n",
    "        elif meshbox._centroids.shape[0]%2 == 0:\n",
    "            skip = 2\n",
    "        else: \n",
    "            skip = 1\n",
    "\n",
    "        skip = 2\n",
    "        num_el =  meshbox._centroids[::skip, 0].shape[0]\n",
    "\n",
    "        cpoints = np.zeros((num_el, 3))\n",
    "        cpoints[:, 0] = meshbox._centroids[::skip, 0]\n",
    "        cpoints[:, 1] = meshbox._centroids[::skip, 1]\n",
    "\n",
    "        cpoint_cloud = pv.PolyData(cpoints)\n",
    "\n",
    "        # pvstream = pvmesh.streamlines_from_source(\n",
    "        #     cpoint_cloud,\n",
    "        #     vectors=\"V\",\n",
    "        #     integrator_type=2,\n",
    "        #     integration_direction=\"forward\",\n",
    "        #     compute_vorticity=False,\n",
    "        #     max_steps=1000,\n",
    "        #     surface_streamlines=True,\n",
    "        # )\n",
    " \n",
    "        pl = pv.Plotter()\n",
    "\n",
    "        with meshbox.access():\n",
    "            # point sources at cell centres\n",
    "            if v_field.coords.shape[0]%20 == 0:\n",
    "                skip = 20\n",
    "            elif v_field.coords.shape[0]%4 == 0:\n",
    "                skip = 4\n",
    "            elif v_field.coords.shape[0]%3 == 0:\n",
    "                skip = 3\n",
    "            elif v_field.coords.shape[0]%2 == 0:\n",
    "                skip = 2\n",
    "            else: \n",
    "                skip = 1\n",
    "            \n",
    "            skip = 2\n",
    "        \n",
    "            num_el =  v_field.coords[::skip, 0:2].shape[0]\n",
    "            arrow_loc = np.zeros((num_el, 3))\n",
    "            arrow_loc[:, 0:2] = v_field.coords[::skip, 0:2]\n",
    "\n",
    "            num_el =  v_field.data[::skip, 0].shape[0]\n",
    "            arrow_length = np.zeros((num_el, 3))\n",
    "            arrow_length[:, 0] = v_field.data[::skip, 0]\n",
    "            arrow_length[:, 1] = v_field.data[::skip, 1]\n",
    "\n",
    "        pl = pv.Plotter()\n",
    "\n",
    "        #pl.add_mesh(pvmesh,'Gray', 'wireframe')\n",
    "\n",
    "        pl.add_mesh(\n",
    "            pvmesh, cmap=cmap, edge_color=\"Black\",\n",
    "            show_edges=True, use_transparency=False, opacity=0.1,\n",
    "        )\n",
    "\n",
    "      \n",
    "        if with_arrows:\n",
    "            pl.add_arrows(arrow_loc, arrow_length, mag=0.04, opacity=0.8)\n",
    "        else:\n",
    "            pl.add_points(point_cloud, cmap=cmap, point_size=18, opacity=0.8)\n",
    "\n",
    "\n",
    "        # pl.add_mesh(pvstream, opacity=0.5)\n",
    "        # pl.add_arrows(arrow_loc2, arrow_length2, mag=1.0e-1)\n",
    "\n",
    "        # pl.add_points(pdata)\n",
    "\n",
    "        pl.show(cpos=\"xy\", jupyter_backend = \"panel\")\n",
    "\n",
    "        if save_fname is not None:\n",
    "            #pl.save_graphic(save_fname, dpi = 300)\n",
    "            pl.image_scale = 3\n",
    "            pl.screenshot(save_fname) \n",
    "\n",
    "        pvmesh.clear_data()\n",
    "        pvmesh.clear_point_data()\n",
    "        \n",
    "        \n",
    "#plotFig()"
   ]
  },
  {
   "cell_type": "code",
   "execution_count": 14,
   "metadata": {},
   "outputs": [
    {
     "data": {
      "text/plain": [
       "57.05835855673491"
      ]
     },
     "execution_count": 14,
     "metadata": {},
     "output_type": "execute_result"
    }
   ],
   "source": [
    "# underworld3 function for calculating the rms velocity \n",
    "import math\n",
    "\n",
    "def v_rms(mesh = meshbox, v_solution = v_soln): \n",
    "    # v_soln must be a variable of mesh\n",
    "    v_rms = math.sqrt(uw.maths.Integral(mesh, v_solution.fn.dot(v_solution.fn)).evaluate())\n",
    "    return v_rms\n",
    "\n",
    "v_rms()"
   ]
  },
  {
   "cell_type": "code",
   "execution_count": 15,
   "metadata": {},
   "outputs": [
    {
     "name": "stdout",
     "output_type": "stream",
     "text": [
      "  0 SNES Function norm 0.00684306 \n",
      "  1 SNES Function norm 9.75665e-06 \n",
      "  2 SNES Function norm 9.054e-11 \n",
      "Nonlinear SProj_2_ solve converged due to CONVERGED_FNORM_RELATIVE iterations 2\n"
     ]
    }
   ],
   "source": [
    "dTdZ_calc.solve() # solve dTdZ"
   ]
  },
  {
   "cell_type": "code",
   "execution_count": 19,
   "metadata": {},
   "outputs": [
    {
     "data": {
      "text/plain": [
       "0.7521052631578947"
      ]
     },
     "execution_count": 19,
     "metadata": {},
     "output_type": "execute_result"
    }
   ],
   "source": [
    "42.87/57"
   ]
  },
  {
   "cell_type": "code",
   "execution_count": 16,
   "metadata": {},
   "outputs": [
    {
     "name": "stdout",
     "output_type": "stream",
     "text": [
      "3.599047716923576\n"
     ]
    }
   ],
   "source": [
    "# function for calculating the surface integral \n",
    "def surface_integral(mesh, uw_function, mask_fn):\n",
    "\n",
    "    calculator = uw.maths.Integral(mesh, uw_function * mask_fn)\n",
    "    value = calculator.evaluate()\n",
    "\n",
    "    calculator.fn = mask_fn\n",
    "    norm = calculator.evaluate()\n",
    "\n",
    "    integral = value / norm\n",
    "\n",
    "    return integral\n",
    "\n",
    "''' set-up surface expressions for calculating Nu number '''\n",
    "sdev = 0.5*(1/math.sqrt(2*math.log(2)))*(1/res) \n",
    "#sdev = 1/res\n",
    "up_surface_defn_fn = sympy.exp(-((z - 1)**2)/(2*sdev**2)) # at z = 1\n",
    "lw_surface_defn_fn = sympy.exp(-(z**2)/(2*sdev**2)) # at z = 0\n",
    "\n",
    "up_int = surface_integral(meshbox, dTdZ.sym[0], up_surface_defn_fn)\n",
    "lw_int = surface_integral(meshbox, t_soln.sym[0], lw_surface_defn_fn)\n",
    "\n",
    "Nu = -up_int/lw_int\n",
    "print(Nu)"
   ]
  },
  {
   "cell_type": "code",
   "execution_count": 17,
   "metadata": {},
   "outputs": [],
   "source": [
    "outfig"
   ]
  },
  {
   "cell_type": "code",
   "execution_count": 18,
   "metadata": {},
   "outputs": [
    {
     "data": {
      "application/vnd.jupyter.widget-view+json": {
       "model_id": "8bfed7631a224e7d9e3a96507c88716c",
       "version_major": 2,
       "version_minor": 0
      },
      "text/plain": [
       "BokehModel(combine_events=True, render_bundle={'docs_json': {'db3a7413-8e23-49fe-8348-2e40ac73dcee': {'defs': …"
      ]
     },
     "metadata": {},
     "output_type": "display_data"
    }
   ],
   "source": [
    "plotFig(meshbox, t_soln, v_soln, \"T\", save_fname = outfig, with_arrows = False)"
   ]
  },
  {
   "cell_type": "code",
   "execution_count": null,
   "metadata": {},
   "outputs": [],
   "source": []
  }
 ],
 "metadata": {
  "kernelspec": {
   "display_name": "uw3",
   "language": "python",
   "name": "python3"
  },
  "language_info": {
   "codemirror_mode": {
    "name": "ipython",
    "version": 3
   },
   "file_extension": ".py",
   "mimetype": "text/x-python",
   "name": "python",
   "nbconvert_exporter": "python",
   "pygments_lexer": "ipython3",
   "version": "3.10.9"
  },
  "orig_nbformat": 4,
  "vscode": {
   "interpreter": {
    "hash": "cd4dcea649706b13a4ce5f6a40dd21bb537c751624ad4b7e559852e2fd2a02c5"
   }
  }
 },
 "nbformat": 4,
 "nbformat_minor": 2
}
