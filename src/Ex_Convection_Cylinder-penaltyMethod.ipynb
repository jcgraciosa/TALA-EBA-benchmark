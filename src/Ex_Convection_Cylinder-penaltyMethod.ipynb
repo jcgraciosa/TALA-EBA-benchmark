{
 "cells": [
  {
   "cell_type": "code",
   "execution_count": 10,
   "metadata": {},
   "outputs": [],
   "source": [
    "### Convection in annulus example\n",
    "\n",
    "# +\n",
    "import petsc4py\n",
    "from petsc4py import PETSc\n",
    "\n",
    "import underworld3 as uw\n",
    "from underworld3.systems import Stokes\n",
    "from underworld3 import function\n",
    "\n",
    "import numpy as np\n",
    "\n",
    "import os\n",
    "\n",
    "import sympy"
   ]
  },
  {
   "cell_type": "code",
   "execution_count": 11,
   "metadata": {},
   "outputs": [],
   "source": [
    "### set reference values\n",
    "outerRadius   = 6370e3\n",
    "internalRadius= (6370e3 - 660e3) ### UM - LM transition\n",
    "innerRadius   = 3480e3\n",
    "refLength     = (outerRadius - innerRadius) ### thickness of mantle\n",
    "\n",
    "rI   = innerRadius / refLength\n",
    "rInt = internalRadius / refLength\n",
    "rO   = outerRadius / refLength\n",
    "\n",
    "# +\n",
    "mu    = 1.\n",
    "kappa = 1.\n",
    "alpha = 1.\n",
    "\n",
    "rho   = 1.\n",
    "\n",
    "T_cmb = 1.\n",
    "T_surf= 0.\n",
    "\n",
    "Ra_number = 1e6\n",
    "\n",
    "res = 0.075"
   ]
  },
  {
   "cell_type": "code",
   "execution_count": 12,
   "metadata": {},
   "outputs": [
    {
     "name": "stdout",
     "output_type": "stream",
     "text": [
      "Processing gmsh file .meshes/uw_annulus_internalBoundary_rO2.204152249134948rInt1.9757785467128028_rI1.2041522491349481_csize0.075_csizefs0.075.msh\n",
      "Mesh saved to .meshes/uw_annulus_internalBoundary_rO2.204152249134948rInt1.9757785467128028_rI1.2041522491349481_csize0.075_csizefs0.075.msh.h5\n"
     ]
    }
   ],
   "source": [
    "### FS - free slip top, no slip base\n",
    "### NS - no slip top and base\n",
    "boundaryConditions = 'FS'\n",
    "\n",
    "\n",
    "outputPath = f'./output/FAC-mantleConvection-{boundaryConditions}-res={res}-penaltyMethod/'\n",
    "\n",
    "if uw.mpi.rank == 0:\n",
    "    # checking if the directory demo_folder \n",
    "    # exist or not.\n",
    "    if not os.path.exists(outputPath):\n",
    "\n",
    "        # if the demo_folder directory is not present \n",
    "        # then create it.\n",
    "        os.makedirs(outputPath)\n",
    "\n",
    "# +\n",
    "\n",
    "\n",
    "meshball = uw.meshing.AnnulusInternalBoundary(radiusOuter=rO, radiusInternal=rInt, radiusInner=rI, cellSize=res, cellSize_Outer=res, qdegree=3)\n"
   ]
  },
  {
   "cell_type": "code",
   "execution_count": 13,
   "metadata": {},
   "outputs": [
    {
     "name": "stderr",
     "output_type": "stream",
     "text": [
      "/Users/jcgraciosa/mambaforge/envs/uw3/lib/python3.10/site-packages/pyvista/themes.py:2500: PyVistaDeprecationWarning: antialising is deprecated.  Please use `anti_aliasing` instead.\n",
      "  warnings.warn(\n",
      "/Users/jcgraciosa/mambaforge/envs/uw3/lib/python3.10/site-packages/pyvista/themes.py:2468: PyVistaDeprecationWarning: `anti_aliasing` is now a string or None and must be either \"ssaa\", \"msaa\", \"fxaa\", or None\n",
      "  warnings.warn(\n"
     ]
    },
    {
     "data": {
      "application/javascript": "(function(root) {\n  function now() {\n    return new Date();\n  }\n\n  var force = true;\n\n  if (typeof root._bokeh_onload_callbacks === \"undefined\" || force === true) {\n    root._bokeh_onload_callbacks = [];\n    root._bokeh_is_loading = undefined;\n  }\n\n  if (typeof (root._bokeh_timeout) === \"undefined\" || force === true) {\n    root._bokeh_timeout = Date.now() + 5000;\n    root._bokeh_failed_load = false;\n  }\n\n  function run_callbacks() {\n    try {\n      root._bokeh_onload_callbacks.forEach(function(callback) {\n        if (callback != null)\n          callback();\n      });\n    } finally {\n      delete root._bokeh_onload_callbacks\n    }\n    console.debug(\"Bokeh: all callbacks have finished\");\n  }\n\n  function load_libs(css_urls, js_urls, js_modules, callback) {\n    if (css_urls == null) css_urls = [];\n    if (js_urls == null) js_urls = [];\n    if (js_modules == null) js_modules = [];\n\n    root._bokeh_onload_callbacks.push(callback);\n    if (root._bokeh_is_loading > 0) {\n      console.debug(\"Bokeh: BokehJS is being loaded, scheduling callback at\", now());\n      return null;\n    }\n    if (js_urls.length === 0 && js_modules.length === 0) {\n      run_callbacks();\n      return null;\n    }\n    console.debug(\"Bokeh: BokehJS not loaded, scheduling load and callback at\", now());\n\n    function on_load() {\n      root._bokeh_is_loading--;\n      if (root._bokeh_is_loading === 0) {\n        console.debug(\"Bokeh: all BokehJS libraries/stylesheets loaded\");\n        run_callbacks()\n      }\n    }\n\n    function on_error() {\n      console.error(\"failed to load \" + url);\n    }\n\n    for (var i = 0; i < css_urls.length; i++) {\n      var url = css_urls[i];\n      const element = document.createElement(\"link\");\n      element.onload = on_load;\n      element.onerror = on_error;\n      element.rel = \"stylesheet\";\n      element.type = \"text/css\";\n      element.href = url;\n      console.debug(\"Bokeh: injecting link tag for BokehJS stylesheet: \", url);\n      document.body.appendChild(element);\n    }\n\n    var skip = [];\n    if (window.requirejs) {\n      window.requirejs.config({'packages': {}, 'paths': {'vtk': 'https://cdn.jsdelivr.net/npm/vtk.js@20.0.1/vtk', 'gridstack': 'https://cdn.jsdelivr.net/npm/gridstack@4.2.5/dist/gridstack-h5', 'notyf': 'https://cdn.jsdelivr.net/npm/notyf@3/notyf.min'}, 'shim': {'vtk': {'exports': 'vtk'}, 'gridstack': {'exports': 'GridStack'}}});\n      require([\"vtk\"], function() {\n\ton_load()\n      })\n      require([\"gridstack\"], function(GridStack) {\n\twindow.GridStack = GridStack\n\ton_load()\n      })\n      require([\"notyf\"], function() {\n\ton_load()\n      })\n      root._bokeh_is_loading = css_urls.length + 3;\n    } else {\n      root._bokeh_is_loading = css_urls.length + js_urls.length + js_modules.length;\n    }    if (((window['vtk'] !== undefined) && (!(window['vtk'] instanceof HTMLElement))) || window.requirejs) {\n      var urls = ['https://cdn.holoviz.org/panel/0.14.4/dist/bundled/abstractvtkplot/vtk.js@20.0.1/vtk.js'];\n      for (var i = 0; i < urls.length; i++) {\n        skip.push(urls[i])\n      }\n    }    if (((window['GridStack'] !== undefined) && (!(window['GridStack'] instanceof HTMLElement))) || window.requirejs) {\n      var urls = ['https://cdn.holoviz.org/panel/0.14.4/dist/bundled/gridstack/gridstack@4.2.5/dist/gridstack-h5.js'];\n      for (var i = 0; i < urls.length; i++) {\n        skip.push(urls[i])\n      }\n    }    if (((window['Notyf'] !== undefined) && (!(window['Notyf'] instanceof HTMLElement))) || window.requirejs) {\n      var urls = ['https://cdn.holoviz.org/panel/0.14.4/dist/bundled/notificationarea/notyf@3/notyf.min.js'];\n      for (var i = 0; i < urls.length; i++) {\n        skip.push(urls[i])\n      }\n    }    for (var i = 0; i < js_urls.length; i++) {\n      var url = js_urls[i];\n      if (skip.indexOf(url) >= 0) {\n\tif (!window.requirejs) {\n\t  on_load();\n\t}\n\tcontinue;\n      }\n      var element = document.createElement('script');\n      element.onload = on_load;\n      element.onerror = on_error;\n      element.async = false;\n      element.src = url;\n      console.debug(\"Bokeh: injecting script tag for BokehJS library: \", url);\n      document.head.appendChild(element);\n    }\n    for (var i = 0; i < js_modules.length; i++) {\n      var url = js_modules[i];\n      if (skip.indexOf(url) >= 0) {\n\tif (!window.requirejs) {\n\t  on_load();\n\t}\n\tcontinue;\n      }\n      var element = document.createElement('script');\n      element.onload = on_load;\n      element.onerror = on_error;\n      element.async = false;\n      element.src = url;\n      element.type = \"module\";\n      console.debug(\"Bokeh: injecting script tag for BokehJS library: \", url);\n      document.head.appendChild(element);\n    }\n    if (!js_urls.length && !js_modules.length) {\n      on_load()\n    }\n  };\n\n  function inject_raw_css(css) {\n    const element = document.createElement(\"style\");\n    element.appendChild(document.createTextNode(css));\n    document.body.appendChild(element);\n  }\n\n  var js_urls = [\"https://cdn.holoviz.org/panel/0.14.4/dist/bundled/abstractvtkplot/vtk.js@20.0.1/vtk.js\", \"https://cdn.bokeh.org/bokeh/release/bokeh-2.4.3.min.js\", \"https://cdn.bokeh.org/bokeh/release/bokeh-gl-2.4.3.min.js\", \"https://cdn.bokeh.org/bokeh/release/bokeh-widgets-2.4.3.min.js\", \"https://cdn.bokeh.org/bokeh/release/bokeh-tables-2.4.3.min.js\", \"https://cdn.bokeh.org/bokeh/release/bokeh-mathjax-2.4.3.min.js\", \"https://unpkg.com/@holoviz/panel@0.14.4/dist/panel.min.js\"];\n  var js_modules = [];\n  var css_urls = [\"https://cdn.holoviz.org/panel/0.14.4/dist/css/debugger.css\", \"https://cdn.holoviz.org/panel/0.14.4/dist/css/alerts.css\", \"https://cdn.holoviz.org/panel/0.14.4/dist/css/card.css\", \"https://cdn.holoviz.org/panel/0.14.4/dist/css/widgets.css\", \"https://cdn.holoviz.org/panel/0.14.4/dist/css/markdown.css\", \"https://cdn.holoviz.org/panel/0.14.4/dist/css/json.css\", \"https://cdn.holoviz.org/panel/0.14.4/dist/css/loading.css\", \"https://cdn.holoviz.org/panel/0.14.4/dist/css/dataframe.css\"];\n  var inline_js = [    function(Bokeh) {\n      inject_raw_css(\"\\n    .bk.pn-loading.arc:before {\\n      background-image: url(\\\"data:image/svg+xml;base64,PHN2ZyB4bWxucz0iaHR0cDovL3d3dy53My5vcmcvMjAwMC9zdmciIHN0eWxlPSJtYXJnaW46IGF1dG87IGJhY2tncm91bmQ6IG5vbmU7IGRpc3BsYXk6IGJsb2NrOyBzaGFwZS1yZW5kZXJpbmc6IGF1dG87IiB2aWV3Qm94PSIwIDAgMTAwIDEwMCIgcHJlc2VydmVBc3BlY3RSYXRpbz0ieE1pZFlNaWQiPiAgPGNpcmNsZSBjeD0iNTAiIGN5PSI1MCIgZmlsbD0ibm9uZSIgc3Ryb2tlPSIjYzNjM2MzIiBzdHJva2Utd2lkdGg9IjEwIiByPSIzNSIgc3Ryb2tlLWRhc2hhcnJheT0iMTY0LjkzMzYxNDMxMzQ2NDE1IDU2Ljk3Nzg3MTQzNzgyMTM4Ij4gICAgPGFuaW1hdGVUcmFuc2Zvcm0gYXR0cmlidXRlTmFtZT0idHJhbnNmb3JtIiB0eXBlPSJyb3RhdGUiIHJlcGVhdENvdW50PSJpbmRlZmluaXRlIiBkdXI9IjFzIiB2YWx1ZXM9IjAgNTAgNTA7MzYwIDUwIDUwIiBrZXlUaW1lcz0iMDsxIj48L2FuaW1hdGVUcmFuc2Zvcm0+ICA8L2NpcmNsZT48L3N2Zz4=\\\");\\n      background-size: auto calc(min(50%, 400px));\\n    }\\n    \");\n    },    function(Bokeh) {\n      Bokeh.set_log_level(\"info\");\n    },\nfunction(Bokeh) {} // ensure no trailing comma for IE\n  ];\n\n  function run_inline_js() {\n    if ((root.Bokeh !== undefined) || (force === true)) {\n      for (var i = 0; i < inline_js.length; i++) {\n        inline_js[i].call(root, root.Bokeh);\n      }} else if (Date.now() < root._bokeh_timeout) {\n      setTimeout(run_inline_js, 100);\n    } else if (!root._bokeh_failed_load) {\n      console.log(\"Bokeh: BokehJS failed to load within specified timeout.\");\n      root._bokeh_failed_load = true;\n    }\n  }\n\n  if (root._bokeh_is_loading === 0) {\n    console.debug(\"Bokeh: BokehJS loaded, going straight to plotting\");\n    run_inline_js();\n  } else {\n    load_libs(css_urls, js_urls, js_modules, function() {\n      console.debug(\"Bokeh: BokehJS plotting callback run at\", now());\n      run_inline_js();\n    });\n  }\n}(window));",
      "application/vnd.holoviews_load.v0+json": ""
     },
     "metadata": {},
     "output_type": "display_data"
    },
    {
     "data": {
      "application/javascript": "\nif ((window.PyViz === undefined) || (window.PyViz instanceof HTMLElement)) {\n  window.PyViz = {comms: {}, comm_status:{}, kernels:{}, receivers: {}, plot_index: []}\n}\n\n\n    function JupyterCommManager() {\n    }\n\n    JupyterCommManager.prototype.register_target = function(plot_id, comm_id, msg_handler) {\n      if (window.comm_manager || ((window.Jupyter !== undefined) && (Jupyter.notebook.kernel != null))) {\n        var comm_manager = window.comm_manager || Jupyter.notebook.kernel.comm_manager;\n        comm_manager.register_target(comm_id, function(comm) {\n          comm.on_msg(msg_handler);\n        });\n      } else if ((plot_id in window.PyViz.kernels) && (window.PyViz.kernels[plot_id])) {\n        window.PyViz.kernels[plot_id].registerCommTarget(comm_id, function(comm) {\n          comm.onMsg = msg_handler;\n        });\n      } else if (typeof google != 'undefined' && google.colab.kernel != null) {\n        google.colab.kernel.comms.registerTarget(comm_id, (comm) => {\n          var messages = comm.messages[Symbol.asyncIterator]();\n          function processIteratorResult(result) {\n            var message = result.value;\n            console.log(message)\n            var content = {data: message.data, comm_id};\n            var buffers = []\n            for (var buffer of message.buffers || []) {\n              buffers.push(new DataView(buffer))\n            }\n            var metadata = message.metadata || {};\n            var msg = {content, buffers, metadata}\n            msg_handler(msg);\n            return messages.next().then(processIteratorResult);\n          }\n          return messages.next().then(processIteratorResult);\n        })\n      }\n    }\n\n    JupyterCommManager.prototype.get_client_comm = function(plot_id, comm_id, msg_handler) {\n      if (comm_id in window.PyViz.comms) {\n        return window.PyViz.comms[comm_id];\n      } else if (window.comm_manager || ((window.Jupyter !== undefined) && (Jupyter.notebook.kernel != null))) {\n        var comm_manager = window.comm_manager || Jupyter.notebook.kernel.comm_manager;\n        var comm = comm_manager.new_comm(comm_id, {}, {}, {}, comm_id);\n        if (msg_handler) {\n          comm.on_msg(msg_handler);\n        }\n      } else if ((plot_id in window.PyViz.kernels) && (window.PyViz.kernels[plot_id])) {\n        var comm = window.PyViz.kernels[plot_id].connectToComm(comm_id);\n        comm.open();\n        if (msg_handler) {\n          comm.onMsg = msg_handler;\n        }\n      } else if (typeof google != 'undefined' && google.colab.kernel != null) {\n        var comm_promise = google.colab.kernel.comms.open(comm_id)\n        comm_promise.then((comm) => {\n          window.PyViz.comms[comm_id] = comm;\n          if (msg_handler) {\n            var messages = comm.messages[Symbol.asyncIterator]();\n            function processIteratorResult(result) {\n              var message = result.value;\n              var content = {data: message.data};\n              var metadata = message.metadata || {comm_id};\n              var msg = {content, metadata}\n              msg_handler(msg);\n              return messages.next().then(processIteratorResult);\n            }\n            return messages.next().then(processIteratorResult);\n          }\n        }) \n        var sendClosure = (data, metadata, buffers, disposeOnDone) => {\n          return comm_promise.then((comm) => {\n            comm.send(data, metadata, buffers, disposeOnDone);\n          });\n        };\n        var comm = {\n          send: sendClosure\n        };\n      }\n      window.PyViz.comms[comm_id] = comm;\n      return comm;\n    }\n    window.PyViz.comm_manager = new JupyterCommManager();\n    \n\n\nvar JS_MIME_TYPE = 'application/javascript';\nvar HTML_MIME_TYPE = 'text/html';\nvar EXEC_MIME_TYPE = 'application/vnd.holoviews_exec.v0+json';\nvar CLASS_NAME = 'output';\n\n/**\n * Render data to the DOM node\n */\nfunction render(props, node) {\n  var div = document.createElement(\"div\");\n  var script = document.createElement(\"script\");\n  node.appendChild(div);\n  node.appendChild(script);\n}\n\n/**\n * Handle when a new output is added\n */\nfunction handle_add_output(event, handle) {\n  var output_area = handle.output_area;\n  var output = handle.output;\n  if ((output.data == undefined) || (!output.data.hasOwnProperty(EXEC_MIME_TYPE))) {\n    return\n  }\n  var id = output.metadata[EXEC_MIME_TYPE][\"id\"];\n  var toinsert = output_area.element.find(\".\" + CLASS_NAME.split(' ')[0]);\n  if (id !== undefined) {\n    var nchildren = toinsert.length;\n    var html_node = toinsert[nchildren-1].children[0];\n    html_node.innerHTML = output.data[HTML_MIME_TYPE];\n    var scripts = [];\n    var nodelist = html_node.querySelectorAll(\"script\");\n    for (var i in nodelist) {\n      if (nodelist.hasOwnProperty(i)) {\n        scripts.push(nodelist[i])\n      }\n    }\n\n    scripts.forEach( function (oldScript) {\n      var newScript = document.createElement(\"script\");\n      var attrs = [];\n      var nodemap = oldScript.attributes;\n      for (var j in nodemap) {\n        if (nodemap.hasOwnProperty(j)) {\n          attrs.push(nodemap[j])\n        }\n      }\n      attrs.forEach(function(attr) { newScript.setAttribute(attr.name, attr.value) });\n      newScript.appendChild(document.createTextNode(oldScript.innerHTML));\n      oldScript.parentNode.replaceChild(newScript, oldScript);\n    });\n    if (JS_MIME_TYPE in output.data) {\n      toinsert[nchildren-1].children[1].textContent = output.data[JS_MIME_TYPE];\n    }\n    output_area._hv_plot_id = id;\n    if ((window.Bokeh !== undefined) && (id in Bokeh.index)) {\n      window.PyViz.plot_index[id] = Bokeh.index[id];\n    } else {\n      window.PyViz.plot_index[id] = null;\n    }\n  } else if (output.metadata[EXEC_MIME_TYPE][\"server_id\"] !== undefined) {\n    var bk_div = document.createElement(\"div\");\n    bk_div.innerHTML = output.data[HTML_MIME_TYPE];\n    var script_attrs = bk_div.children[0].attributes;\n    for (var i = 0; i < script_attrs.length; i++) {\n      toinsert[toinsert.length - 1].childNodes[1].setAttribute(script_attrs[i].name, script_attrs[i].value);\n    }\n    // store reference to server id on output_area\n    output_area._bokeh_server_id = output.metadata[EXEC_MIME_TYPE][\"server_id\"];\n  }\n}\n\n/**\n * Handle when an output is cleared or removed\n */\nfunction handle_clear_output(event, handle) {\n  var id = handle.cell.output_area._hv_plot_id;\n  var server_id = handle.cell.output_area._bokeh_server_id;\n  if (((id === undefined) || !(id in PyViz.plot_index)) && (server_id !== undefined)) { return; }\n  var comm = window.PyViz.comm_manager.get_client_comm(\"hv-extension-comm\", \"hv-extension-comm\", function () {});\n  if (server_id !== null) {\n    comm.send({event_type: 'server_delete', 'id': server_id});\n    return;\n  } else if (comm !== null) {\n    comm.send({event_type: 'delete', 'id': id});\n  }\n  delete PyViz.plot_index[id];\n  if ((window.Bokeh !== undefined) & (id in window.Bokeh.index)) {\n    var doc = window.Bokeh.index[id].model.document\n    doc.clear();\n    const i = window.Bokeh.documents.indexOf(doc);\n    if (i > -1) {\n      window.Bokeh.documents.splice(i, 1);\n    }\n  }\n}\n\n/**\n * Handle kernel restart event\n */\nfunction handle_kernel_cleanup(event, handle) {\n  delete PyViz.comms[\"hv-extension-comm\"];\n  window.PyViz.plot_index = {}\n}\n\n/**\n * Handle update_display_data messages\n */\nfunction handle_update_output(event, handle) {\n  handle_clear_output(event, {cell: {output_area: handle.output_area}})\n  handle_add_output(event, handle)\n}\n\nfunction register_renderer(events, OutputArea) {\n  function append_mime(data, metadata, element) {\n    // create a DOM node to render to\n    var toinsert = this.create_output_subarea(\n    metadata,\n    CLASS_NAME,\n    EXEC_MIME_TYPE\n    );\n    this.keyboard_manager.register_events(toinsert);\n    // Render to node\n    var props = {data: data, metadata: metadata[EXEC_MIME_TYPE]};\n    render(props, toinsert[0]);\n    element.append(toinsert);\n    return toinsert\n  }\n\n  events.on('output_added.OutputArea', handle_add_output);\n  events.on('output_updated.OutputArea', handle_update_output);\n  events.on('clear_output.CodeCell', handle_clear_output);\n  events.on('delete.Cell', handle_clear_output);\n  events.on('kernel_ready.Kernel', handle_kernel_cleanup);\n\n  OutputArea.prototype.register_mime_type(EXEC_MIME_TYPE, append_mime, {\n    safe: true,\n    index: 0\n  });\n}\n\nif (window.Jupyter !== undefined) {\n  try {\n    var events = require('base/js/events');\n    var OutputArea = require('notebook/js/outputarea').OutputArea;\n    if (OutputArea.prototype.mime_types().indexOf(EXEC_MIME_TYPE) == -1) {\n      register_renderer(events, OutputArea);\n    }\n  } catch(err) {\n  }\n}\n",
      "application/vnd.holoviews_load.v0+json": ""
     },
     "metadata": {},
     "output_type": "display_data"
    },
    {
     "data": {
      "text/html": [
       "<style>.bk-root, .bk-root .bk:before, .bk-root .bk:after {\n",
       "  font-family: var(--jp-ui-font-size1);\n",
       "  font-size: var(--jp-ui-font-size1);\n",
       "  color: var(--jp-ui-font-color1);\n",
       "}\n",
       "</style>"
      ]
     },
     "metadata": {},
     "output_type": "display_data"
    },
    {
     "name": "stderr",
     "output_type": "stream",
     "text": [
      "/var/folders/91/xdyy27357hv1tymzym7xhf5h0000gq/T/ipykernel_65306/4205732629.py:9: PyVistaDeprecationWarning: `panel` backend is deprecated and is planned for future removal.\n",
      "  pv.global_theme.jupyter_backend = \"panel\"\n"
     ]
    },
    {
     "data": {
      "application/vnd.jupyter.widget-view+json": {
       "model_id": "0b0ea6a1d13d4aab8b62eb8aaf3da6d1",
       "version_major": 2,
       "version_minor": 0
      },
      "text/plain": [
       "BokehModel(combine_events=True, render_bundle={'docs_json': {'b4a1eb61-4b7b-46a5-b31d-1a66245e2dd6': {'defs': …"
      ]
     },
     "metadata": {},
     "output_type": "display_data"
    }
   ],
   "source": [
    "if uw.mpi.size == 1:\n",
    "    import numpy as np\n",
    "    import pyvista as pv\n",
    "    import vtk\n",
    "\n",
    "    pv.global_theme.background = \"white\"\n",
    "    pv.global_theme.window_size = [750, 750]\n",
    "    pv.global_theme.antialiasing = True\n",
    "    pv.global_theme.jupyter_backend = \"panel\"\n",
    "    pv.global_theme.smooth_shading = True\n",
    "    pv.global_theme.camera[\"viewup\"] = [0.0, 1.0, 0.0]\n",
    "    pv.global_theme.camera[\"position\"] = [0.0, 0.0, -5.0]\n",
    "\n",
    "    meshball.vtk(outputPath+\"ignore_meshball.vtk\")\n",
    "    pvmesh = pv.read(outputPath+\"ignore_meshball.vtk\")\n",
    "\n",
    "    pl = pv.Plotter()\n",
    "\n",
    "    # pl.add_mesh(pvmesh,'Black', 'wireframe', opacity=0.5)\n",
    "    pl.add_mesh(pvmesh, cmap=\"coolwarm\", edge_color=\"Black\", show_edges=True, use_transparency=False, opacity=0.5)\n",
    "\n",
    "    pl.show()"
   ]
  },
  {
   "cell_type": "code",
   "execution_count": 14,
   "metadata": {},
   "outputs": [],
   "source": [
    "v_soln = uw.discretisation.MeshVariable(\"U\", meshball, meshball.dim, degree=2)\n",
    "p_soln = uw.discretisation.MeshVariable(\"P\", meshball, 1, degree=1)\n",
    "t_soln = uw.discretisation.MeshVariable(\"T\", meshball, 1, degree=3)\n",
    "t_0    = uw.discretisation.MeshVariable(\"T0\", meshball, 1, degree=3)\n",
    "\n",
    "timeField    = uw.discretisation.MeshVariable(\"time\", meshball, 1, degree=1)\n",
    "density_proj = uw.discretisation.MeshVariable(\"rho\", meshball, 1, degree=1)\n",
    "visc         = uw.discretisation.MeshVariable(r\"\\eta\", meshball, 1, degree=1, continuous=True)\n",
    "\n",
    "SR         = uw.discretisation.MeshVariable(r\"\\SR\", meshball, 1, degree=1, continuous=True)\n",
    "\n",
    "meshr        = uw.discretisation.MeshVariable(r\"r\", meshball, 1, degree=1)\n",
    "\n",
    "swarm = uw.swarm.Swarm(mesh=meshball)\n",
    "material = uw.swarm.SwarmVariable(\"Mat\", swarm, 1)\n",
    "swarm.populate(fill_param=1)"
   ]
  },
  {
   "cell_type": "code",
   "execution_count": 15,
   "metadata": {},
   "outputs": [],
   "source": [
    "# Create Stokes object\n",
    "stokes = Stokes(meshball, velocityField=v_soln, pressureField=p_soln, solver_name=\"stokes\")\n",
    "\n",
    "### Add constitutive model\n",
    "stokes.constitutive_model = uw.systems.constitutive_models.ViscousFlowModel(meshball.dim)\n",
    "\n",
    "# Set solve options here (or remove default values\n",
    "stokes.petsc_options.delValue(\"ksp_monitor\")"
   ]
  },
  {
   "cell_type": "code",
   "execution_count": 16,
   "metadata": {},
   "outputs": [],
   "source": [
    "# Create adv_diff object\n",
    "\n",
    "adv_diff = uw.systems.AdvDiffusion(\n",
    "    meshball,\n",
    "    u_Field=t_soln,\n",
    "    V_Field=v_soln,\n",
    "    solver_name=\"adv_diff\",\n",
    "    verbose=False,\n",
    ")\n",
    "\n",
    "adv_diff.constitutive_model = uw.systems.constitutive_models.DiffusionModel(meshball.dim)\n",
    "\n",
    "adv_diff.constitutive_model.Parameters.diffusivity = kappa\n",
    "\n",
    "adv_diff.theta = 0.5"
   ]
  },
  {
   "cell_type": "code",
   "execution_count": 17,
   "metadata": {},
   "outputs": [
    {
     "ename": "IndexError",
     "evalue": "index -4606056518893174784 is out of bounds for axis 0 with size 4706",
     "output_type": "error",
     "traceback": [
      "\u001b[0;31m---------------------------------------------------------------------------\u001b[0m",
      "\u001b[0;31mIndexError\u001b[0m                                Traceback (most recent call last)",
      "Cell \u001b[0;32mIn[17], line 2\u001b[0m\n\u001b[1;32m      1\u001b[0m \u001b[39m### set up swarm distribution\u001b[39;00m\n\u001b[0;32m----> 2\u001b[0m \u001b[39mwith\u001b[39;00m swarm\u001b[39m.\u001b[39maccess(material):\n\u001b[1;32m      3\u001b[0m     \u001b[39m#print(material.data.shape)\u001b[39;00m\n\u001b[1;32m      4\u001b[0m     material\u001b[39m.\u001b[39mdata[:] \u001b[39m=\u001b[39m \u001b[39m0\u001b[39m\n\u001b[1;32m      5\u001b[0m     material\u001b[39m.\u001b[39mdata[np\u001b[39m.\u001b[39msqrt(swarm\u001b[39m.\u001b[39mdata[:,\u001b[39m0\u001b[39m]\u001b[39m*\u001b[39m\u001b[39m*\u001b[39m\u001b[39m2\u001b[39m \u001b[39m+\u001b[39m swarm\u001b[39m.\u001b[39mdata[:,\u001b[39m1\u001b[39m]\u001b[39m*\u001b[39m\u001b[39m*\u001b[39m\u001b[39m2\u001b[39m) \u001b[39m<\u001b[39m\u001b[39m=\u001b[39m rInt] \u001b[39m=\u001b[39m \u001b[39m1\u001b[39m\n",
      "File \u001b[0;32m~/Documents/codes/uw3-dev/underworld3/underworld3/swarm.py:1057\u001b[0m, in \u001b[0;36mSwarm.access.<locals>.exit_manager.__exit__\u001b[0;34m(self, *args)\u001b[0m\n\u001b[1;32m   1051\u001b[0m \u001b[39mfor\u001b[39;00m var \u001b[39min\u001b[39;00m \u001b[39mself\u001b[39m\u001b[39m.\u001b[39mem_swarm\u001b[39m.\u001b[39mvars\u001b[39m.\u001b[39mvalues():\n\u001b[1;32m   1052\u001b[0m     \u001b[39m# if swarm migrated, update all.\u001b[39;00m\n\u001b[1;32m   1053\u001b[0m     \u001b[39m# if var updated, update var.\u001b[39;00m\n\u001b[1;32m   1054\u001b[0m     \u001b[39mif\u001b[39;00m (\u001b[39mself\u001b[39m\u001b[39m.\u001b[39mem_swarm\u001b[39m.\u001b[39mparticle_coordinates \u001b[39min\u001b[39;00m writeable_vars) \u001b[39mor\u001b[39;00m (\n\u001b[1;32m   1055\u001b[0m         var \u001b[39min\u001b[39;00m writeable_vars\n\u001b[1;32m   1056\u001b[0m     ):\n\u001b[0;32m-> 1057\u001b[0m         var\u001b[39m.\u001b[39;49m_update()\n\u001b[1;32m   1059\u001b[0m uw\u001b[39m.\u001b[39mtiming\u001b[39m.\u001b[39m_decrementDepth()\n\u001b[1;32m   1060\u001b[0m uw\u001b[39m.\u001b[39mtiming\u001b[39m.\u001b[39mlog_result(time\u001b[39m.\u001b[39mtime() \u001b[39m-\u001b[39m stime, \u001b[39m\"\u001b[39m\u001b[39mSwarm.access\u001b[39m\u001b[39m\"\u001b[39m, \u001b[39m1\u001b[39m)\n",
      "File \u001b[0;32m~/Documents/codes/uw3-dev/underworld3/underworld3/swarm.py:145\u001b[0m, in \u001b[0;36mSwarmVariable._update\u001b[0;34m(self)\u001b[0m\n\u001b[1;32m    142\u001b[0m     \u001b[39mreturn\u001b[39;00m\n\u001b[1;32m    144\u001b[0m \u001b[39melse\u001b[39;00m:\n\u001b[0;32m--> 145\u001b[0m     \u001b[39mself\u001b[39;49m\u001b[39m.\u001b[39;49m_rbf_to_meshVar(\u001b[39mself\u001b[39;49m\u001b[39m.\u001b[39;49m_meshVar)\n\u001b[1;32m    147\u001b[0m \u001b[39mreturn\u001b[39;00m\n",
      "File \u001b[0;32m~/Documents/codes/uw3-dev/underworld3/underworld3/swarm.py:169\u001b[0m, in \u001b[0;36mSwarmVariable._rbf_to_meshVar\u001b[0;34m(self, meshVar, nnn, verbose)\u001b[0m\n\u001b[1;32m    165\u001b[0m     \u001b[39mraise\u001b[39;00m \u001b[39mRuntimeError\u001b[39;00m(\u001b[39m\"\u001b[39m\u001b[39mCannot map a swarm to a different mesh\u001b[39m\u001b[39m\"\u001b[39m)\n\u001b[1;32m    167\u001b[0m new_coords \u001b[39m=\u001b[39m meshVar\u001b[39m.\u001b[39mcoords\n\u001b[0;32m--> 169\u001b[0m Values \u001b[39m=\u001b[39m \u001b[39mself\u001b[39;49m\u001b[39m.\u001b[39;49mrbf_interpolate(new_coords, verbose\u001b[39m=\u001b[39;49mverbose, nnn\u001b[39m=\u001b[39;49mnnn)\n\u001b[1;32m    171\u001b[0m \u001b[39mwith\u001b[39;00m meshVar\u001b[39m.\u001b[39mmesh\u001b[39m.\u001b[39maccess(meshVar):\n\u001b[1;32m    172\u001b[0m     meshVar\u001b[39m.\u001b[39mdata[\u001b[39m.\u001b[39m\u001b[39m.\u001b[39m\u001b[39m.\u001b[39m] \u001b[39m=\u001b[39m Values[\u001b[39m.\u001b[39m\u001b[39m.\u001b[39m\u001b[39m.\u001b[39m]\n",
      "File \u001b[0;32m~/Documents/codes/uw3-dev/underworld3/underworld3/swarm.py:201\u001b[0m, in \u001b[0;36mSwarmVariable.rbf_interpolate\u001b[0;34m(self, new_coords, verbose, nnn)\u001b[0m\n\u001b[1;32m    197\u001b[0m         kdt \u001b[39m=\u001b[39m uw\u001b[39m.\u001b[39mkdtree\u001b[39m.\u001b[39mKDTree(\u001b[39mself\u001b[39m\u001b[39m.\u001b[39mswarm\u001b[39m.\u001b[39mparticle_coordinates\u001b[39m.\u001b[39mdata[:, :])\n\u001b[1;32m    199\u001b[0m     kdt\u001b[39m.\u001b[39mbuild_index()\n\u001b[0;32m--> 201\u001b[0m \u001b[39mreturn\u001b[39;00m kdt\u001b[39m.\u001b[39;49mrbf_interpolator_local(new_coords, D, nnn, verbose)\n",
      "File \u001b[0;32m~/Documents/codes/uw3-dev/underworld3/underworld3/kdtree.pyx:229\u001b[0m, in \u001b[0;36munderworld3.kdtree.KDTree.rbf_interpolator_local\u001b[0;34m()\u001b[0m\n",
      "\u001b[0;31mIndexError\u001b[0m: index -4606056518893174784 is out of bounds for axis 0 with size 4706"
     ]
    }
   ],
   "source": [
    "### set up swarm distribution\n",
    "with swarm.access(material):\n",
    "    #print(material.data.shape)\n",
    "    material.data[:] = 0\n",
    "    material.data[np.sqrt(swarm.data[:,0]**2 + swarm.data[:,1]**2) <= rInt] = 1\n",
    "\n",
    "T_density = rho * (1. - (alpha * (t_soln.sym[0] - T_surf)))\n",
    "\n",
    "# +\n",
    "### create projections of vars onto mesh\n",
    "nodal_rho_calc = uw.systems.Projection(meshball, density_proj)\n",
    "nodal_rho_calc.uw_function = T_density\n",
    "nodal_rho_calc.smoothing = 1.0e-3\n",
    "nodal_rho_calc.petsc_options.delValue(\"ksp_monitor\")\n",
    "\n",
    "viscosity_calc = uw.systems.Projection(meshball, visc)\n",
    "viscosity_calc.uw_function = stokes.constitutive_model.Parameters.viscosity\n",
    "viscosity_calc.smoothing = 1.0e-3\n",
    "viscosity_calc.petsc_options.delValue(\"ksp_monitor\")\n",
    "\n",
    "SR_calc = uw.systems.Projection(meshball, SR)\n",
    "SR_calc.uw_function = stokes._Einv2\n",
    "SR_calc.smoothing = 1.0e-3\n",
    "SR_calc.petsc_options.delValue(\"ksp_monitor\")"
   ]
  },
  {
   "cell_type": "code",
   "execution_count": null,
   "metadata": {},
   "outputs": [
    {
     "name": "stdout",
     "output_type": "stream",
     "text": [
      "(4706, 1)\n"
     ]
    }
   ],
   "source": [
    "with swarm.access():\n",
    "    print(material.data.shape)"
   ]
  },
  {
   "cell_type": "code",
   "execution_count": null,
   "metadata": {},
   "outputs": [],
   "source": []
  }
 ],
 "metadata": {
  "kernelspec": {
   "display_name": "uw3",
   "language": "python",
   "name": "python3"
  },
  "language_info": {
   "codemirror_mode": {
    "name": "ipython",
    "version": 3
   },
   "file_extension": ".py",
   "mimetype": "text/x-python",
   "name": "python",
   "nbconvert_exporter": "python",
   "pygments_lexer": "ipython3",
   "version": "3.10.9"
  },
  "orig_nbformat": 4
 },
 "nbformat": 4,
 "nbformat_minor": 2
}
