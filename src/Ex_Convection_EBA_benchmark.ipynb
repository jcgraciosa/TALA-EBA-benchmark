{
 "cells": [
  {
   "attachments": {},
   "cell_type": "markdown",
   "id": "c9ed835f",
   "metadata": {},
   "source": [
    "# King / Blankenbach Benchmark Case 1\n",
    "\n",
    "## Isoviscous thermal convection with EBA formulation.\n",
    "\n",
    "Two-dimensional, incompressible, bottom heated, steady isoviscous thermal convection in a 1 x 1 box following the Extended Boussinesq Approximation formulation. See case 1 of [King et al. (2009)](https://doi.org/10.1111/j.1365-246X.2009.04413.x) / [Blankenbach et al. (1989) benchmark](https://academic.oup.com/gji/article/98/1/23/622167).\n",
    "\n",
    "Extended Boussinesq Approximation, EBA, Stokes flow formulation.\n"
   ]
  },
  {
   "cell_type": "code",
   "execution_count": 1,
   "id": "086374ff",
   "metadata": {
    "lines_to_next_cell": 2
   },
   "outputs": [],
   "source": [
    "import petsc4py\n",
    "from petsc4py import PETSc\n",
    "\n",
    "import underworld3 as uw\n",
    "from underworld3.systems import Stokes\n",
    "from underworld3 import function\n",
    "\n",
    "import os \n",
    "import numpy as np\n",
    "import sympy\n",
    "from copy import deepcopy "
   ]
  },
  {
   "attachments": {},
   "cell_type": "markdown",
   "id": "ca2a0a74",
   "metadata": {},
   "source": [
    "### Set parameters to use "
   ]
  },
  {
   "cell_type": "code",
   "execution_count": 2,
   "id": "f5673292",
   "metadata": {},
   "outputs": [],
   "source": [
    "Di = 0.5        # dissipation factor\n",
    "eta0 = 1e23     # for calculating topography \n",
    "Ra = 1e4        # Rayleigh number\n",
    "\n",
    "# other non-dimensional parameters\n",
    "alphaBar = 1.      # this is set to 1 in King et al. \n",
    "cp = 1             # set to 1 for now\n",
    "\n",
    "k = 1.0 #### diffusivity\n",
    "\n",
    "boxLength = 1.0\n",
    "boxHeight = 1.0\n",
    "tempMin   = 0.\n",
    "tempMax   = 1.\n",
    "\n",
    "viscosity = 1\n",
    "\n",
    "tol = 1e-4\n",
    "res= 16             ### x and y res of box\n",
    "nsteps = 5        ### maximum number of time steps to run the first model \n",
    "epsilon_lr = 1e-8   ### criteria for early stopping; relative change of the Vrms in between iterations \n",
    "\n",
    "##########\n",
    "# parameters needed for saving checkpoints\n",
    "# can set outdir to None if you don't want to save anything\n",
    "outdir = \"/Users/jcgraciosa/Documents/codes/uw3-dev/EBA_test\" \n",
    "outfile = outdir + \"/convection_16\"\n",
    "save_every = 10\n",
    "#\n",
    "infile = None # set infile to a value if there's a checkpoint from a previous run that you want to start from\n",
    "# example infile settings: \n",
    "# infile = outfile # will read outfile, but this file will be overwritten at the end of this run \n",
    "# infile = outdir + \"/convection_16\" # file is that of 16 x 16 mesh   \n",
    "\n",
    "prev_res = None # if infile is not None, then this should be set to the previous model resolution\n",
    "\n",
    "os.makedirs(outdir, exist_ok = True)"
   ]
  },
  {
   "attachments": {},
   "cell_type": "markdown",
   "id": "9eb39dd6",
   "metadata": {},
   "source": [
    "### Create mesh and variables"
   ]
  },
  {
   "cell_type": "code",
   "execution_count": 3,
   "id": "140dd559",
   "metadata": {
    "lines_to_next_cell": 2
   },
   "outputs": [
    {
     "name": "stdout",
     "output_type": "stream",
     "text": [
      "Processing gmsh file .meshes/uw_simplexbox_minC(0.0, 0.0)_maxC(1.0, 1.0)_csize0.0625_regFalse.msh\n",
      "Mesh saved to .meshes/uw_simplexbox_minC(0.0, 0.0)_maxC(1.0, 1.0)_csize0.0625_regFalse.msh.h5\n"
     ]
    }
   ],
   "source": [
    "meshbox = uw.meshing.UnstructuredSimplexBox(\n",
    "                                                minCoords=(0.0, 0.0), maxCoords=(boxLength, boxHeight), cellSize=1.0 /res, regular=False, qdegree = 3\n",
    "                                        )\n",
    "\n",
    "#meshbox = uw.meshing.StructuredQuadBox(minCoords=(0.0, 0.0), maxCoords=(boxLength, boxHeight),  elementRes=(res,res))\n"
   ]
  },
  {
   "attachments": {},
   "cell_type": "markdown",
   "id": "7039d383",
   "metadata": {},
   "source": [
    "## Reference values \n",
    "With EBA, the reference state is $\\bar \\rho = 1$ and $\\bar T = 0$."
   ]
  },
  {
   "cell_type": "code",
   "execution_count": 4,
   "id": "49c1b287",
   "metadata": {},
   "outputs": [
    {
     "name": "stderr",
     "output_type": "stream",
     "text": [
      "/Users/jcgraciosa/mambaforge/envs/uw3/lib/python3.10/site-packages/pyvista/themes.py:2500: PyVistaDeprecationWarning: antialising is deprecated.  Please use `anti_aliasing` instead.\n",
      "  warnings.warn(\n",
      "/Users/jcgraciosa/mambaforge/envs/uw3/lib/python3.10/site-packages/pyvista/themes.py:2468: PyVistaDeprecationWarning: `anti_aliasing` is now a string or None and must be either \"ssaa\", \"msaa\", \"fxaa\", or None\n",
      "  warnings.warn(\n"
     ]
    },
    {
     "data": {
      "application/javascript": "(function(root) {\n  function now() {\n    return new Date();\n  }\n\n  var force = true;\n\n  if (typeof root._bokeh_onload_callbacks === \"undefined\" || force === true) {\n    root._bokeh_onload_callbacks = [];\n    root._bokeh_is_loading = undefined;\n  }\n\n  if (typeof (root._bokeh_timeout) === \"undefined\" || force === true) {\n    root._bokeh_timeout = Date.now() + 5000;\n    root._bokeh_failed_load = false;\n  }\n\n  function run_callbacks() {\n    try {\n      root._bokeh_onload_callbacks.forEach(function(callback) {\n        if (callback != null)\n          callback();\n      });\n    } finally {\n      delete root._bokeh_onload_callbacks\n    }\n    console.debug(\"Bokeh: all callbacks have finished\");\n  }\n\n  function load_libs(css_urls, js_urls, js_modules, callback) {\n    if (css_urls == null) css_urls = [];\n    if (js_urls == null) js_urls = [];\n    if (js_modules == null) js_modules = [];\n\n    root._bokeh_onload_callbacks.push(callback);\n    if (root._bokeh_is_loading > 0) {\n      console.debug(\"Bokeh: BokehJS is being loaded, scheduling callback at\", now());\n      return null;\n    }\n    if (js_urls.length === 0 && js_modules.length === 0) {\n      run_callbacks();\n      return null;\n    }\n    console.debug(\"Bokeh: BokehJS not loaded, scheduling load and callback at\", now());\n\n    function on_load() {\n      root._bokeh_is_loading--;\n      if (root._bokeh_is_loading === 0) {\n        console.debug(\"Bokeh: all BokehJS libraries/stylesheets loaded\");\n        run_callbacks()\n      }\n    }\n\n    function on_error() {\n      console.error(\"failed to load \" + url);\n    }\n\n    for (var i = 0; i < css_urls.length; i++) {\n      var url = css_urls[i];\n      const element = document.createElement(\"link\");\n      element.onload = on_load;\n      element.onerror = on_error;\n      element.rel = \"stylesheet\";\n      element.type = \"text/css\";\n      element.href = url;\n      console.debug(\"Bokeh: injecting link tag for BokehJS stylesheet: \", url);\n      document.body.appendChild(element);\n    }\n\n    var skip = [];\n    if (window.requirejs) {\n      window.requirejs.config({'packages': {}, 'paths': {'vtk': 'https://cdn.jsdelivr.net/npm/vtk.js@20.0.1/vtk', 'gridstack': 'https://cdn.jsdelivr.net/npm/gridstack@4.2.5/dist/gridstack-h5', 'notyf': 'https://cdn.jsdelivr.net/npm/notyf@3/notyf.min'}, 'shim': {'vtk': {'exports': 'vtk'}, 'gridstack': {'exports': 'GridStack'}}});\n      require([\"vtk\"], function() {\n\ton_load()\n      })\n      require([\"gridstack\"], function(GridStack) {\n\twindow.GridStack = GridStack\n\ton_load()\n      })\n      require([\"notyf\"], function() {\n\ton_load()\n      })\n      root._bokeh_is_loading = css_urls.length + 3;\n    } else {\n      root._bokeh_is_loading = css_urls.length + js_urls.length + js_modules.length;\n    }    if (((window['vtk'] !== undefined) && (!(window['vtk'] instanceof HTMLElement))) || window.requirejs) {\n      var urls = ['https://cdn.holoviz.org/panel/0.14.4/dist/bundled/abstractvtkplot/vtk.js@20.0.1/vtk.js'];\n      for (var i = 0; i < urls.length; i++) {\n        skip.push(urls[i])\n      }\n    }    if (((window['GridStack'] !== undefined) && (!(window['GridStack'] instanceof HTMLElement))) || window.requirejs) {\n      var urls = ['https://cdn.holoviz.org/panel/0.14.4/dist/bundled/gridstack/gridstack@4.2.5/dist/gridstack-h5.js'];\n      for (var i = 0; i < urls.length; i++) {\n        skip.push(urls[i])\n      }\n    }    if (((window['Notyf'] !== undefined) && (!(window['Notyf'] instanceof HTMLElement))) || window.requirejs) {\n      var urls = ['https://cdn.holoviz.org/panel/0.14.4/dist/bundled/notificationarea/notyf@3/notyf.min.js'];\n      for (var i = 0; i < urls.length; i++) {\n        skip.push(urls[i])\n      }\n    }    for (var i = 0; i < js_urls.length; i++) {\n      var url = js_urls[i];\n      if (skip.indexOf(url) >= 0) {\n\tif (!window.requirejs) {\n\t  on_load();\n\t}\n\tcontinue;\n      }\n      var element = document.createElement('script');\n      element.onload = on_load;\n      element.onerror = on_error;\n      element.async = false;\n      element.src = url;\n      console.debug(\"Bokeh: injecting script tag for BokehJS library: \", url);\n      document.head.appendChild(element);\n    }\n    for (var i = 0; i < js_modules.length; i++) {\n      var url = js_modules[i];\n      if (skip.indexOf(url) >= 0) {\n\tif (!window.requirejs) {\n\t  on_load();\n\t}\n\tcontinue;\n      }\n      var element = document.createElement('script');\n      element.onload = on_load;\n      element.onerror = on_error;\n      element.async = false;\n      element.src = url;\n      element.type = \"module\";\n      console.debug(\"Bokeh: injecting script tag for BokehJS library: \", url);\n      document.head.appendChild(element);\n    }\n    if (!js_urls.length && !js_modules.length) {\n      on_load()\n    }\n  };\n\n  function inject_raw_css(css) {\n    const element = document.createElement(\"style\");\n    element.appendChild(document.createTextNode(css));\n    document.body.appendChild(element);\n  }\n\n  var js_urls = [\"https://cdn.holoviz.org/panel/0.14.4/dist/bundled/abstractvtkplot/vtk.js@20.0.1/vtk.js\", \"https://cdn.bokeh.org/bokeh/release/bokeh-2.4.3.min.js\", \"https://cdn.bokeh.org/bokeh/release/bokeh-gl-2.4.3.min.js\", \"https://cdn.bokeh.org/bokeh/release/bokeh-widgets-2.4.3.min.js\", \"https://cdn.bokeh.org/bokeh/release/bokeh-tables-2.4.3.min.js\", \"https://cdn.bokeh.org/bokeh/release/bokeh-mathjax-2.4.3.min.js\", \"https://unpkg.com/@holoviz/panel@0.14.4/dist/panel.min.js\"];\n  var js_modules = [];\n  var css_urls = [\"https://cdn.holoviz.org/panel/0.14.4/dist/css/debugger.css\", \"https://cdn.holoviz.org/panel/0.14.4/dist/css/alerts.css\", \"https://cdn.holoviz.org/panel/0.14.4/dist/css/card.css\", \"https://cdn.holoviz.org/panel/0.14.4/dist/css/widgets.css\", \"https://cdn.holoviz.org/panel/0.14.4/dist/css/markdown.css\", \"https://cdn.holoviz.org/panel/0.14.4/dist/css/json.css\", \"https://cdn.holoviz.org/panel/0.14.4/dist/css/loading.css\", \"https://cdn.holoviz.org/panel/0.14.4/dist/css/dataframe.css\"];\n  var inline_js = [    function(Bokeh) {\n      inject_raw_css(\"\\n    .bk.pn-loading.arc:before {\\n      background-image: url(\\\"data:image/svg+xml;base64,PHN2ZyB4bWxucz0iaHR0cDovL3d3dy53My5vcmcvMjAwMC9zdmciIHN0eWxlPSJtYXJnaW46IGF1dG87IGJhY2tncm91bmQ6IG5vbmU7IGRpc3BsYXk6IGJsb2NrOyBzaGFwZS1yZW5kZXJpbmc6IGF1dG87IiB2aWV3Qm94PSIwIDAgMTAwIDEwMCIgcHJlc2VydmVBc3BlY3RSYXRpbz0ieE1pZFlNaWQiPiAgPGNpcmNsZSBjeD0iNTAiIGN5PSI1MCIgZmlsbD0ibm9uZSIgc3Ryb2tlPSIjYzNjM2MzIiBzdHJva2Utd2lkdGg9IjEwIiByPSIzNSIgc3Ryb2tlLWRhc2hhcnJheT0iMTY0LjkzMzYxNDMxMzQ2NDE1IDU2Ljk3Nzg3MTQzNzgyMTM4Ij4gICAgPGFuaW1hdGVUcmFuc2Zvcm0gYXR0cmlidXRlTmFtZT0idHJhbnNmb3JtIiB0eXBlPSJyb3RhdGUiIHJlcGVhdENvdW50PSJpbmRlZmluaXRlIiBkdXI9IjFzIiB2YWx1ZXM9IjAgNTAgNTA7MzYwIDUwIDUwIiBrZXlUaW1lcz0iMDsxIj48L2FuaW1hdGVUcmFuc2Zvcm0+ICA8L2NpcmNsZT48L3N2Zz4=\\\");\\n      background-size: auto calc(min(50%, 400px));\\n    }\\n    \");\n    },    function(Bokeh) {\n      Bokeh.set_log_level(\"info\");\n    },\nfunction(Bokeh) {} // ensure no trailing comma for IE\n  ];\n\n  function run_inline_js() {\n    if ((root.Bokeh !== undefined) || (force === true)) {\n      for (var i = 0; i < inline_js.length; i++) {\n        inline_js[i].call(root, root.Bokeh);\n      }} else if (Date.now() < root._bokeh_timeout) {\n      setTimeout(run_inline_js, 100);\n    } else if (!root._bokeh_failed_load) {\n      console.log(\"Bokeh: BokehJS failed to load within specified timeout.\");\n      root._bokeh_failed_load = true;\n    }\n  }\n\n  if (root._bokeh_is_loading === 0) {\n    console.debug(\"Bokeh: BokehJS loaded, going straight to plotting\");\n    run_inline_js();\n  } else {\n    load_libs(css_urls, js_urls, js_modules, function() {\n      console.debug(\"Bokeh: BokehJS plotting callback run at\", now());\n      run_inline_js();\n    });\n  }\n}(window));",
      "application/vnd.holoviews_load.v0+json": ""
     },
     "metadata": {},
     "output_type": "display_data"
    },
    {
     "data": {
      "application/javascript": "\nif ((window.PyViz === undefined) || (window.PyViz instanceof HTMLElement)) {\n  window.PyViz = {comms: {}, comm_status:{}, kernels:{}, receivers: {}, plot_index: []}\n}\n\n\n    function JupyterCommManager() {\n    }\n\n    JupyterCommManager.prototype.register_target = function(plot_id, comm_id, msg_handler) {\n      if (window.comm_manager || ((window.Jupyter !== undefined) && (Jupyter.notebook.kernel != null))) {\n        var comm_manager = window.comm_manager || Jupyter.notebook.kernel.comm_manager;\n        comm_manager.register_target(comm_id, function(comm) {\n          comm.on_msg(msg_handler);\n        });\n      } else if ((plot_id in window.PyViz.kernels) && (window.PyViz.kernels[plot_id])) {\n        window.PyViz.kernels[plot_id].registerCommTarget(comm_id, function(comm) {\n          comm.onMsg = msg_handler;\n        });\n      } else if (typeof google != 'undefined' && google.colab.kernel != null) {\n        google.colab.kernel.comms.registerTarget(comm_id, (comm) => {\n          var messages = comm.messages[Symbol.asyncIterator]();\n          function processIteratorResult(result) {\n            var message = result.value;\n            console.log(message)\n            var content = {data: message.data, comm_id};\n            var buffers = []\n            for (var buffer of message.buffers || []) {\n              buffers.push(new DataView(buffer))\n            }\n            var metadata = message.metadata || {};\n            var msg = {content, buffers, metadata}\n            msg_handler(msg);\n            return messages.next().then(processIteratorResult);\n          }\n          return messages.next().then(processIteratorResult);\n        })\n      }\n    }\n\n    JupyterCommManager.prototype.get_client_comm = function(plot_id, comm_id, msg_handler) {\n      if (comm_id in window.PyViz.comms) {\n        return window.PyViz.comms[comm_id];\n      } else if (window.comm_manager || ((window.Jupyter !== undefined) && (Jupyter.notebook.kernel != null))) {\n        var comm_manager = window.comm_manager || Jupyter.notebook.kernel.comm_manager;\n        var comm = comm_manager.new_comm(comm_id, {}, {}, {}, comm_id);\n        if (msg_handler) {\n          comm.on_msg(msg_handler);\n        }\n      } else if ((plot_id in window.PyViz.kernels) && (window.PyViz.kernels[plot_id])) {\n        var comm = window.PyViz.kernels[plot_id].connectToComm(comm_id);\n        comm.open();\n        if (msg_handler) {\n          comm.onMsg = msg_handler;\n        }\n      } else if (typeof google != 'undefined' && google.colab.kernel != null) {\n        var comm_promise = google.colab.kernel.comms.open(comm_id)\n        comm_promise.then((comm) => {\n          window.PyViz.comms[comm_id] = comm;\n          if (msg_handler) {\n            var messages = comm.messages[Symbol.asyncIterator]();\n            function processIteratorResult(result) {\n              var message = result.value;\n              var content = {data: message.data};\n              var metadata = message.metadata || {comm_id};\n              var msg = {content, metadata}\n              msg_handler(msg);\n              return messages.next().then(processIteratorResult);\n            }\n            return messages.next().then(processIteratorResult);\n          }\n        }) \n        var sendClosure = (data, metadata, buffers, disposeOnDone) => {\n          return comm_promise.then((comm) => {\n            comm.send(data, metadata, buffers, disposeOnDone);\n          });\n        };\n        var comm = {\n          send: sendClosure\n        };\n      }\n      window.PyViz.comms[comm_id] = comm;\n      return comm;\n    }\n    window.PyViz.comm_manager = new JupyterCommManager();\n    \n\n\nvar JS_MIME_TYPE = 'application/javascript';\nvar HTML_MIME_TYPE = 'text/html';\nvar EXEC_MIME_TYPE = 'application/vnd.holoviews_exec.v0+json';\nvar CLASS_NAME = 'output';\n\n/**\n * Render data to the DOM node\n */\nfunction render(props, node) {\n  var div = document.createElement(\"div\");\n  var script = document.createElement(\"script\");\n  node.appendChild(div);\n  node.appendChild(script);\n}\n\n/**\n * Handle when a new output is added\n */\nfunction handle_add_output(event, handle) {\n  var output_area = handle.output_area;\n  var output = handle.output;\n  if ((output.data == undefined) || (!output.data.hasOwnProperty(EXEC_MIME_TYPE))) {\n    return\n  }\n  var id = output.metadata[EXEC_MIME_TYPE][\"id\"];\n  var toinsert = output_area.element.find(\".\" + CLASS_NAME.split(' ')[0]);\n  if (id !== undefined) {\n    var nchildren = toinsert.length;\n    var html_node = toinsert[nchildren-1].children[0];\n    html_node.innerHTML = output.data[HTML_MIME_TYPE];\n    var scripts = [];\n    var nodelist = html_node.querySelectorAll(\"script\");\n    for (var i in nodelist) {\n      if (nodelist.hasOwnProperty(i)) {\n        scripts.push(nodelist[i])\n      }\n    }\n\n    scripts.forEach( function (oldScript) {\n      var newScript = document.createElement(\"script\");\n      var attrs = [];\n      var nodemap = oldScript.attributes;\n      for (var j in nodemap) {\n        if (nodemap.hasOwnProperty(j)) {\n          attrs.push(nodemap[j])\n        }\n      }\n      attrs.forEach(function(attr) { newScript.setAttribute(attr.name, attr.value) });\n      newScript.appendChild(document.createTextNode(oldScript.innerHTML));\n      oldScript.parentNode.replaceChild(newScript, oldScript);\n    });\n    if (JS_MIME_TYPE in output.data) {\n      toinsert[nchildren-1].children[1].textContent = output.data[JS_MIME_TYPE];\n    }\n    output_area._hv_plot_id = id;\n    if ((window.Bokeh !== undefined) && (id in Bokeh.index)) {\n      window.PyViz.plot_index[id] = Bokeh.index[id];\n    } else {\n      window.PyViz.plot_index[id] = null;\n    }\n  } else if (output.metadata[EXEC_MIME_TYPE][\"server_id\"] !== undefined) {\n    var bk_div = document.createElement(\"div\");\n    bk_div.innerHTML = output.data[HTML_MIME_TYPE];\n    var script_attrs = bk_div.children[0].attributes;\n    for (var i = 0; i < script_attrs.length; i++) {\n      toinsert[toinsert.length - 1].childNodes[1].setAttribute(script_attrs[i].name, script_attrs[i].value);\n    }\n    // store reference to server id on output_area\n    output_area._bokeh_server_id = output.metadata[EXEC_MIME_TYPE][\"server_id\"];\n  }\n}\n\n/**\n * Handle when an output is cleared or removed\n */\nfunction handle_clear_output(event, handle) {\n  var id = handle.cell.output_area._hv_plot_id;\n  var server_id = handle.cell.output_area._bokeh_server_id;\n  if (((id === undefined) || !(id in PyViz.plot_index)) && (server_id !== undefined)) { return; }\n  var comm = window.PyViz.comm_manager.get_client_comm(\"hv-extension-comm\", \"hv-extension-comm\", function () {});\n  if (server_id !== null) {\n    comm.send({event_type: 'server_delete', 'id': server_id});\n    return;\n  } else if (comm !== null) {\n    comm.send({event_type: 'delete', 'id': id});\n  }\n  delete PyViz.plot_index[id];\n  if ((window.Bokeh !== undefined) & (id in window.Bokeh.index)) {\n    var doc = window.Bokeh.index[id].model.document\n    doc.clear();\n    const i = window.Bokeh.documents.indexOf(doc);\n    if (i > -1) {\n      window.Bokeh.documents.splice(i, 1);\n    }\n  }\n}\n\n/**\n * Handle kernel restart event\n */\nfunction handle_kernel_cleanup(event, handle) {\n  delete PyViz.comms[\"hv-extension-comm\"];\n  window.PyViz.plot_index = {}\n}\n\n/**\n * Handle update_display_data messages\n */\nfunction handle_update_output(event, handle) {\n  handle_clear_output(event, {cell: {output_area: handle.output_area}})\n  handle_add_output(event, handle)\n}\n\nfunction register_renderer(events, OutputArea) {\n  function append_mime(data, metadata, element) {\n    // create a DOM node to render to\n    var toinsert = this.create_output_subarea(\n    metadata,\n    CLASS_NAME,\n    EXEC_MIME_TYPE\n    );\n    this.keyboard_manager.register_events(toinsert);\n    // Render to node\n    var props = {data: data, metadata: metadata[EXEC_MIME_TYPE]};\n    render(props, toinsert[0]);\n    element.append(toinsert);\n    return toinsert\n  }\n\n  events.on('output_added.OutputArea', handle_add_output);\n  events.on('output_updated.OutputArea', handle_update_output);\n  events.on('clear_output.CodeCell', handle_clear_output);\n  events.on('delete.Cell', handle_clear_output);\n  events.on('kernel_ready.Kernel', handle_kernel_cleanup);\n\n  OutputArea.prototype.register_mime_type(EXEC_MIME_TYPE, append_mime, {\n    safe: true,\n    index: 0\n  });\n}\n\nif (window.Jupyter !== undefined) {\n  try {\n    var events = require('base/js/events');\n    var OutputArea = require('notebook/js/outputarea').OutputArea;\n    if (OutputArea.prototype.mime_types().indexOf(EXEC_MIME_TYPE) == -1) {\n      register_renderer(events, OutputArea);\n    }\n  } catch(err) {\n  }\n}\n",
      "application/vnd.holoviews_load.v0+json": ""
     },
     "metadata": {},
     "output_type": "display_data"
    },
    {
     "data": {
      "text/html": [
       "<style>.bk-root, .bk-root .bk:before, .bk-root .bk:after {\n",
       "  font-family: var(--jp-ui-font-size1);\n",
       "  font-size: var(--jp-ui-font-size1);\n",
       "  color: var(--jp-ui-font-color1);\n",
       "}\n",
       "</style>"
      ]
     },
     "metadata": {},
     "output_type": "display_data"
    },
    {
     "name": "stderr",
     "output_type": "stream",
     "text": [
      "/var/folders/91/xdyy27357hv1tymzym7xhf5h0000gq/T/ipykernel_72986/1359165157.py:11: PyVistaDeprecationWarning: `panel` backend is deprecated and is planned for future removal.\n",
      "  pv.global_theme.jupyter_backend = \"panel\"\n"
     ]
    },
    {
     "data": {
      "application/vnd.jupyter.widget-view+json": {
       "model_id": "b2bbb62bc2304456b3f366e39b24c229",
       "version_major": 2,
       "version_minor": 0
      },
      "text/plain": [
       "BokehModel(combine_events=True, render_bundle={'docs_json': {'6c1c2e48-ea7e-4e9d-80bf-1492371e712e': {'defs': …"
      ]
     },
     "metadata": {},
     "output_type": "display_data"
    }
   ],
   "source": [
    "# visualise the mesh if in a notebook / serial\n",
    "\n",
    "if uw.mpi.size == 1:\n",
    "    import numpy as np\n",
    "    import pyvista as pv\n",
    "    import vtk\n",
    "\n",
    "    pv.global_theme.background = \"white\"\n",
    "    pv.global_theme.window_size = [750, 750]\n",
    "    pv.global_theme.antialiasing = True\n",
    "    pv.global_theme.jupyter_backend = \"panel\"\n",
    "    pv.global_theme.smooth_shading = True\n",
    "    pv.global_theme.camera[\"viewup\"] = [0.0, 1.0, 0.0]\n",
    "    pv.global_theme.camera[\"position\"] = [0.0, 0.0, -5.0]\n",
    "    pv.global_theme.show_edges = True\n",
    "    pv.global_theme.axes.show = True\n",
    "\n",
    "    meshbox.vtk(\"tmp_box_mesh.vtk\")\n",
    "    pvmesh = pv.read(\"tmp_box_mesh.vtk\")\n",
    "    pl = pv.Plotter()\n",
    "\n",
    "    # pl.add_mesh(pvmesh,'Black', 'wireframe', opacity=0.5)\n",
    "    pl.add_mesh(pvmesh, edge_color=\"Black\", show_edges=True)\n",
    "\n",
    "    pl.show(cpos=\"xy\")"
   ]
  },
  {
   "cell_type": "code",
   "execution_count": 5,
   "id": "596383f6",
   "metadata": {
    "lines_to_next_cell": 2
   },
   "outputs": [],
   "source": [
    "v_soln = uw.discretisation.MeshVariable(\"U\", meshbox, meshbox.dim, degree=2)\n",
    "p_soln = uw.discretisation.MeshVariable(\"P\", meshbox, 1, degree=1)\n",
    "t_soln = uw.discretisation.MeshVariable(\"T\", meshbox, 1, degree=3)\n",
    "t_0 = uw.discretisation.MeshVariable(\"T0\", meshbox, 1, degree=3)\n",
    "\n",
    "# additional variable for the gradient\n",
    "dTdZ = uw.discretisation.MeshVariable(r\"\\partial T/ \\partial \\Z\",\n",
    "                                      meshbox, \n",
    "                                      1, \n",
    "                                      degree = 3) \n",
    "\n",
    "# variable containing stress in the z direction\n",
    "sigma_zz = uw.discretisation.MeshVariable(r\"\\sigma_{zz}\",  \n",
    "                                        meshbox, \n",
    "                                        1, degree=2)\n",
    "\n",
    "x, z = meshbox.X\n",
    "\n",
    "# projection object to calculate the gradient along Z\n",
    "dTdZ_calc = uw.systems.Projection(meshbox, dTdZ)\n",
    "dTdZ_calc.uw_function = t_soln.sym.diff(z)[0]\n",
    "dTdZ_calc.smoothing = 1.0e-3\n",
    "dTdZ_calc.petsc_options.delValue(\"ksp_monitor\")"
   ]
  },
  {
   "attachments": {},
   "cell_type": "markdown",
   "id": "5e145b3c",
   "metadata": {},
   "source": [
    "### System set-up (Stokes)\n",
    "\n",
    "In the Extended Boussinesq Approximation, the conservation of mass is expressed as: \n",
    "\\begin{aligned}\n",
    "\\nabla \\cdot \\vec u = 0.\n",
    "\\end{aligned}\n",
    "While the conservation of momentum is given as: \n",
    "\\begin{aligned}\n",
    "\\nabla \\cdot [\\eta (\\nabla \\vec u + \\nabla \\vec u^T)] - \\nabla p - Ra g \\bar \\alpha T= 0.\n",
    "\\end{aligned}\n",
    "The deviatoric strain tensor, $\\tau$, is: \n",
    "\\begin{aligned}\n",
    "\\tau = 2 \\eta \\dot \\epsilon = \\eta (\\nabla \\vec u + \\nabla \\vec u^T) \n",
    "\\end{aligned}\n"
   ]
  },
  {
   "cell_type": "code",
   "execution_count": 6,
   "id": "c258c0ef",
   "metadata": {},
   "outputs": [],
   "source": [
    "# Create Stokes solver\n",
    "\n",
    "stokes = Stokes(\n",
    "    meshbox,\n",
    "    velocityField=v_soln,\n",
    "    pressureField=p_soln,\n",
    "    solver_name=\"stokes\",\n",
    ")\n",
    "\n",
    "''' petsc options '''\n",
    "stokes.tolerance = tol\n",
    "# stokes.petsc_options[\"ksp_monitor\"] = None\n",
    "# stokes.petsc_options['pc_type'] = 'lu'\n",
    "# stokes.petsc_options[\"snes_max_it\"] = 1000\n",
    "\n",
    "# stokes.petsc_options[\"snes_atol\"] = 1e-6\n",
    "# stokes.petsc_options[\"snes_rtol\"] = 1e-6\n",
    "\n",
    "#stokes.petsc_options[\"ksp_rtol\"]  = 1e-5 # reduce tolerance to increase speed\n",
    "\n",
    "# Set solve options here (or remove default values\n",
    "# stokes.petsc_options.getAll()\n",
    "\n",
    "#stokes.petsc_options[\"snes_rtol\"] = 1.0e-6\n",
    "# stokes.petsc_options[\"fieldsplit_pressure_ksp_monitor\"] = None\n",
    "# stokes.petsc_options[\"fieldsplit_velocity_ksp_monitor\"] = None\n",
    "# stokes.petsc_options[\"fieldsplit_pressure_ksp_rtol\"] = 1.0e-6\n",
    "# stokes.petsc_options[\"fieldsplit_velocity_ksp_rtol\"] = 1.0e-2\n",
    "\n",
    "stokes.constitutive_model = uw.systems.constitutive_models.ViscousFlowModel(meshbox.dim)\n",
    "stokes.constitutive_model.Parameters.viscosity=viscosity\n",
    "stokes.saddle_preconditioner = 1.0 / viscosity\n",
    "\n",
    "# Free-slip boundary conditions\n",
    "stokes.add_dirichlet_bc((0.0,), \"Left\", (0,))\n",
    "stokes.add_dirichlet_bc((0.0,), \"Right\", (0,))\n",
    "stokes.add_dirichlet_bc((0.0,), \"Top\", (1,))\n",
    "stokes.add_dirichlet_bc((0.0,), \"Bottom\", (1,))\n",
    "\n",
    "buoyancy_force = Ra * alphaBar * t_soln.sym[0]\n",
    "stokes.bodyforce = sympy.Matrix([0, buoyancy_force])"
   ]
  },
  {
   "attachments": {},
   "cell_type": "markdown",
   "id": "d37a867d",
   "metadata": {},
   "source": [
    "### System set-up (Advection-Diffusion)\n",
    "In the EBA formulation, the conservation of energy in terms of the total temperature, T, is expressed as:\n",
    "\n",
    "\\begin{aligned}\n",
    "\\frac{DT}{Dt} - \\frac{Di \\bar \\alpha}{\\bar c_p}\\vec g \\cdot \\vec u T = \\frac {1} {\\bar c_p} \\nabla \\cdot (\\bar k \\nabla T) + \\frac{Di}{Ra} \\frac{1}{\\bar c_p} \\phi\n",
    "\\end{aligned}"
   ]
  },
  {
   "cell_type": "code",
   "execution_count": 7,
   "id": "fce60432",
   "metadata": {
    "lines_to_next_cell": 2
   },
   "outputs": [],
   "source": [
    "# Create adv_diff solver\n",
    "\n",
    "adv_diff = uw.systems.AdvDiffusionSLCN(\n",
    "    meshbox,\n",
    "    u_Field=t_soln,\n",
    "    V_Field=v_soln,\n",
    "    solver_name=\"adv_diff\",\n",
    ")\n",
    "\n",
    "adv_diff.constitutive_model = uw.systems.constitutive_models.DiffusionModel(meshbox.dim)\n",
    "adv_diff.constitutive_model.Parameters.diffusivity = k/cp \n",
    "\n",
    "# add source terms needed in the EBA case\n",
    "#viscous dissipation term\n",
    "visc_diss = 2*viscosity*stokes.strainrate.norm()**2 \n",
    "#visc_diss = 2*viscosity*2*(stokes._Einv2**2)  # equivalent to the one above\n",
    "\n",
    "\n",
    "# adiabatic heating term\n",
    "adiab_heat = (Di*alphaBar/cp)*v_soln.sym[1]*t_soln.sym[0] \n",
    "#adiab_heat = (Di*alpha_bar/c_p)*v_soln.sym[1]*(t_soln.sym[0] + T_s) # TALA case\n",
    "\n",
    "# add source terms based needed for the EBA case as sympy expressions\n",
    "adv_diff.f = (Di/(Ra*cp))*visc_diss - adiab_heat \n",
    "\n",
    "adv_diff.theta = 0.5\n",
    "\n",
    "# Dirichlet boundary conditions for temperature\n",
    "adv_diff.add_dirichlet_bc(1.0, \"Bottom\")\n",
    "adv_diff.add_dirichlet_bc(0.0, \"Top\")\n",
    "\n",
    "adv_diff.petsc_options[\"pc_gamg_agg_nsmooths\"] = 5\n",
    "adv_diff.adv_diff_slcn_problem_description() # need to run this? "
   ]
  },
  {
   "cell_type": "code",
   "execution_count": 8,
   "id": "c89abd73",
   "metadata": {},
   "outputs": [
    {
     "data": {
      "text/latex": [
       "$\\displaystyle \\left|{U_{ 0,1}(\\mathbf{x}) + U_{ 1,0}(\\mathbf{x})}\\right|^{2} + 2 \\left|{U_{ 0,0}(\\mathbf{x})}\\right|^{2} + 2 \\left|{U_{ 1,1}(\\mathbf{x})}\\right|^{2}$"
      ],
      "text/plain": [
       "Abs(U_{ 0,1}(N0.x, N0.y) + U_{ 1,0}(N0.x, N0.y))**2 + 2*Abs(U_{ 0,0}(N0.x, N0.y))**2 + 2*Abs(U_{ 1,1}(N0.x, N0.y))**2"
      ]
     },
     "metadata": {},
     "output_type": "display_data"
    },
    {
     "data": {
      "text/latex": [
       "$\\displaystyle 2 U_{ 0,0}^{ 2 }(\\mathbf{x}) + U_{ 0,1}^{ 2 }(\\mathbf{x}) + 2 U_{ 0,1}(\\mathbf{x}) U_{ 1,0}(\\mathbf{x}) + U_{ 1,0}^{ 2 }(\\mathbf{x}) + 2 U_{ 1,1}^{ 2 }(\\mathbf{x})$"
      ],
      "text/plain": [
       "2*U_{ 0,0}(N0.x, N0.y)**2 + U_{ 0,1}(N0.x, N0.y)**2 + 2*U_{ 0,1}(N0.x, N0.y)*U_{ 1,0}(N0.x, N0.y) + U_{ 1,0}(N0.x, N0.y)**2 + 2*U_{ 1,1}(N0.x, N0.y)**2"
      ]
     },
     "metadata": {},
     "output_type": "display_data"
    }
   ],
   "source": [
    "display(sympy.simplify(2*viscosity*stokes.strainrate.norm()**2))\n",
    "display(2*viscosity*2*(stokes._Einv2**2))"
   ]
  },
  {
   "attachments": {},
   "cell_type": "markdown",
   "id": "792a2af6",
   "metadata": {},
   "source": [
    "### Set initial temperature field \n",
    "\n",
    "The initial temperature field is set to a sinusoidal perturbation. "
   ]
  },
  {
   "cell_type": "code",
   "execution_count": 9,
   "id": "efe2f143",
   "metadata": {
    "lines_to_next_cell": 2
   },
   "outputs": [
    {
     "name": "stdout",
     "output_type": "stream",
     "text": [
      "Processing gmsh file .meshes/uw_simplexbox_minC(0.0, 0.0)_maxC(1.0, 1.0)_csize0.0625_regFalse.msh\n",
      "Mesh saved to .meshes/uw_simplexbox_minC(0.0, 0.0)_maxC(1.0, 1.0)_csize0.0625_regFalse.msh.h5\n"
     ]
    }
   ],
   "source": [
    "import math, sympy\n",
    "\n",
    "if infile is None:\n",
    "    pertStrength = 0.1\n",
    "    deltaTemp = tempMax - tempMin\n",
    "\n",
    "    with meshbox.access(t_soln, t_0):\n",
    "        t_soln.data[:] = 0.\n",
    "        t_0.data[:] = 0.\n",
    "\n",
    "    with meshbox.access(t_soln):\n",
    "        for index, coord in enumerate(t_soln.coords):\n",
    "            # print(index, coord)\n",
    "            pertCoeff = math.cos( math.pi * coord[0]/boxLength ) * math.sin( math.pi * coord[1]/boxLength )\n",
    "        \n",
    "            t_soln.data[index] = tempMin + deltaTemp*(boxHeight - coord[1]) + pertStrength * pertCoeff\n",
    "            t_soln.data[index] = max(tempMin, min(tempMax, t_soln.data[index]))\n",
    "            \n",
    "        \n",
    "    with meshbox.access(t_soln, t_0):\n",
    "        t_0.data[:,0] = t_soln.data[:,0]\n",
    "else:\n",
    "    meshbox_prev = uw.meshing.UnstructuredSimplexBox(\n",
    "                                                            minCoords=(0.0, 0.0), \n",
    "                                                            maxCoords=(boxLength, boxHeight), \n",
    "                                                            cellSize=1.0/prev_res,\n",
    "                                                            qdegree = 3,\n",
    "                                                            regular = False\n",
    "                                                        )\n",
    "    \n",
    "    # T should have high degree for it to converge\n",
    "    v_soln_prev = uw.discretisation.MeshVariable(\"U\", meshbox_prev, meshbox_prev.dim, degree=2) # degree = 2\n",
    "    p_soln_prev = uw.discretisation.MeshVariable(\"P\", meshbox_prev, 1, degree=1) # degree = 1\n",
    "    t_soln_prev = uw.discretisation.MeshVariable(\"T\", meshbox_prev, 1, degree=3) # degree = 3\n",
    "\n",
    "    v_soln_prev.load_from_h5_plex_vector(infile + '.U.0.h5')\n",
    "    p_soln_prev.load_from_h5_plex_vector(infile + '.P.0.h5')\n",
    "    t_soln_prev.load_from_h5_plex_vector(infile + '.T.0.h5')\n",
    "\n",
    "    with meshbox.access(v_soln, t_soln, p_soln):    \n",
    "        t_soln.data[:, 0] = uw.function.evaluate(t_soln_prev.sym[0], t_soln.coords)\n",
    "        p_soln.data[:, 0] = uw.function.evaluate(p_soln_prev.sym[0], p_soln.coords)\n",
    "\n",
    "        #for velocity, encounters errors when trying to interpolate in the non-zero boundaries of the mesh variables \n",
    "        v_coords = deepcopy(v_soln.coords)\n",
    "\n",
    "        v_soln.data[:] = uw.function.evaluate(v_soln_prev.fn, v_coords)\n",
    "\n",
    "    del meshbox_prev\n",
    "    del v_soln_prev\n",
    "    del p_soln_prev\n",
    "    del t_soln_prev\n"
   ]
  },
  {
   "attachments": {},
   "cell_type": "markdown",
   "id": "5cc9f4ee",
   "metadata": {},
   "source": [
    "### Some plotting and analysis tools "
   ]
  },
  {
   "cell_type": "code",
   "execution_count": 10,
   "id": "57344dc1",
   "metadata": {},
   "outputs": [
    {
     "data": {
      "application/vnd.jupyter.widget-view+json": {
       "model_id": "33adf9a9caa64abaa2606de063d6fa70",
       "version_major": 2,
       "version_minor": 0
      },
      "text/plain": [
       "BokehModel(combine_events=True, render_bundle={'docs_json': {'1c96adea-4bff-48e4-a429-f78a3bb64a87': {'defs': …"
      ]
     },
     "metadata": {},
     "output_type": "display_data"
    }
   ],
   "source": [
    "# check the mesh if in a notebook / serial\n",
    "# allows you to visualise the mesh and the mesh variable\n",
    "'''FIXME: change this so it's better'''\n",
    "\n",
    "def plotFig(meshbox, s_field, v_field, s_field_name, save_fname = None, with_arrows = False, cmap = \"coolwarm\"): \n",
    "    \"\"\"\n",
    "    s_field - scalar field - corresponds to colors\n",
    "    v_field - vector field - usually the velocity - 2 components\n",
    "    \"\"\"\n",
    "    if uw.mpi.size == 1:\n",
    "\n",
    "        import numpy as np\n",
    "        import pyvista as pv\n",
    "        import vtk\n",
    "\n",
    "        pv.global_theme.background = \"white\"\n",
    "        pv.global_theme.window_size = [500, 500]\n",
    "        pv.global_theme.anti_aliasing = None #\"ssaa\", \"msaa\", \"fxaa\", or None\n",
    "        #pv.global_theme.jupyter_backend = \"panel\"\n",
    "        pv.global_theme.smooth_shading = True\n",
    "\n",
    "        meshbox.vtk(\"tmp_box_mesh.vtk\")\n",
    "        pvmesh = pv.read(\"tmp_box_mesh.vtk\")\n",
    "\n",
    "        velocity = np.zeros((meshbox.data.shape[0], 3))\n",
    "        velocity[:, 0] = uw.function.evaluate(v_field.sym[0], meshbox.data)\n",
    "        velocity[:, 1] = uw.function.evaluate(v_field.sym[1], meshbox.data)\n",
    "\n",
    "        #pvmesh.point_data[\"V\"] = velocity / 10\n",
    "\n",
    "        points = np.zeros((s_field.coords.shape[0], 3))\n",
    "        points[:, 0] = s_field.coords[:, 0]\n",
    "        points[:, 1] = s_field.coords[:, 1]\n",
    "\n",
    "        point_cloud = pv.PolyData(points)\n",
    "\n",
    "        with meshbox.access():\n",
    "            point_cloud.point_data[s_field_name] = uw.function.evaluate(s_field.fn, points[:, 0:2])\n",
    "\n",
    "        skip = 2\n",
    "        num_row = len(meshbox._centroids[::skip, 0])\n",
    "\n",
    "        cpoints = np.zeros((num_row, 3))\n",
    "        cpoints[:, 0] = meshbox._centroids[::skip, 0]\n",
    "        cpoints[:, 1] = meshbox._centroids[::skip, 1]\n",
    "\n",
    "        cpoint_cloud = pv.PolyData(cpoints)\n",
    "\n",
    "        # pvstream = pvmesh.streamlines_from_source(\n",
    "        #     cpoint_cloud,\n",
    "        #     vectors=\"V\",\n",
    "        #     integrator_type=2,\n",
    "        #     integration_direction=\"forward\",\n",
    "        #     compute_vorticity=False,\n",
    "        #     max_steps=1000,\n",
    "        #     surface_streamlines=True,\n",
    "        # )\n",
    " \n",
    "        pl = pv.Plotter()\n",
    "\n",
    "        with meshbox.access():\n",
    "            skip = 2\n",
    "        \n",
    "            num_row = len(v_field.coords[::skip, 0:2])\n",
    "\n",
    "            arrow_loc = np.zeros((num_row, 3))\n",
    "            arrow_loc[:, 0:2] = v_field.coords[::skip, 0:2]\n",
    "\n",
    "            arrow_length = np.zeros((num_row, 3))\n",
    "            arrow_length[:, 0] = v_field.data[::skip, 0]\n",
    "            arrow_length[:, 1] = v_field.data[::skip, 1]\n",
    "\n",
    "        pl = pv.Plotter()\n",
    "\n",
    "        #pl.add_mesh(pvmesh,'Gray', 'wireframe')\n",
    "\n",
    "        pl.add_mesh(\n",
    "            pvmesh, cmap=cmap, edge_color=\"Black\",\n",
    "            show_edges=True, use_transparency=False, opacity=0.1,\n",
    "        )\n",
    "\n",
    "      \n",
    "        if with_arrows:\n",
    "            pl.add_arrows(arrow_loc, arrow_length, mag=0.04, opacity=0.8)\n",
    "        else:\n",
    "            pl.add_points(point_cloud, cmap=cmap, point_size=18, opacity=0.8)\n",
    "\n",
    "\n",
    "        # pl.add_mesh(pvstream, opacity=0.5)\n",
    "        # pl.add_arrows(arrow_loc2, arrow_length2, mag=1.0e-1)\n",
    "\n",
    "        # pl.add_points(pdata)\n",
    "\n",
    "        pl.show(cpos=\"xy\", jupyter_backend = \"panel\")\n",
    "\n",
    "        if save_fname is not None:\n",
    "            #pl.save_graphic(save_fname, dpi = 300)\n",
    "            pl.image_scale = 3\n",
    "            pl.screenshot(save_fname) \n",
    "\n",
    "        pvmesh.clear_data()\n",
    "        pvmesh.clear_point_data()\n",
    "        \n",
    "        \n",
    "plotFig(meshbox, t_soln, v_soln, \"T\", save_fname = None, with_arrows = False, cmap = \"coolwarm\")"
   ]
  },
  {
   "attachments": {},
   "cell_type": "markdown",
   "id": "6c8b8a17",
   "metadata": {},
   "source": [
    "#### RMS velocity\n",
    "The root mean squared velocity, $v_{rms}$, is defined as: \n",
    "\n",
    "\\begin{aligned}\n",
    "v_{rms}  =  \\sqrt{ \\frac{ \\int_V (\\mathbf{v}.\\mathbf{v}) dV } {\\int_V dV} }\n",
    "\\end{aligned}\n",
    "\n",
    "where $\\bf{v}$ denotes the velocity field and $V$ is the volume of the box."
   ]
  },
  {
   "cell_type": "code",
   "execution_count": 11,
   "id": "aa2ee4b8",
   "metadata": {},
   "outputs": [],
   "source": [
    "# underworld3 function for calculating the rms velocity \n",
    "\n",
    "def v_rms(mesh = meshbox, v_solution = v_soln): \n",
    "    # v_soln must be a variable of mesh\n",
    "    v_rms = math.sqrt(uw.maths.Integral(mesh, v_solution.fn.dot(v_solution.fn)).evaluate())\n",
    "    return v_rms\n",
    "\n",
    "# print(f'initial v_rms = {v_rms()}')"
   ]
  },
  {
   "attachments": {},
   "cell_type": "markdown",
   "id": "d730c3ab",
   "metadata": {},
   "source": [
    "#### Surface integrals\n",
    "Since there is no uw3 function yet to calculate the surface integral, we define one.  \\\n",
    "The surface integral of a function, $f_i(\\mathbf{x})$, is approximated as:  \n",
    "\n",
    "\\begin{aligned}\n",
    "F_i = \\int_V f_i(\\mathbf{x}) S(\\mathbf{x})  dV  \n",
    "\\end{aligned}\n",
    "\n",
    "With $S(\\mathbf{x})$ defined as an un-normalized Gaussian function with the maximum at $z = a$  - the surface we want to evaluate the integral in (e.g. z = 1 for surface integral at the top surface):\n",
    "\n",
    "\\begin{aligned}\n",
    "S(\\mathbf{x}) = exp \\left( \\frac{-(z-a)^2}{2\\sigma ^2} \\right)\n",
    "\\end{aligned}\n",
    "\n",
    "In addition, the full-width at half maximum is set to 1/res so the standard deviation, $\\sigma$ is calculated as: \n",
    "\n",
    "\\begin{aligned}\n",
    "\\sigma = \\frac{1}{2}\\frac{1}{\\sqrt{ 2 log 2}}\\frac{1}{res} \n",
    "\\end{aligned}\n"
   ]
  },
  {
   "cell_type": "code",
   "execution_count": 12,
   "id": "8ab52e50",
   "metadata": {},
   "outputs": [],
   "source": [
    "# function for calculating the surface integral \n",
    "def surface_integral(mesh, uw_function, mask_fn):\n",
    "\n",
    "    calculator = uw.maths.Integral(mesh, uw_function * mask_fn)\n",
    "    value = calculator.evaluate()\n",
    "\n",
    "    calculator.fn = mask_fn\n",
    "    norm = calculator.evaluate()\n",
    "\n",
    "    integral = value / norm\n",
    "\n",
    "    return integral\n",
    "\n",
    "''' set-up surface expressions for calculating Nu number '''\n",
    "# the full width at half maximum is set to 1/res\n",
    "sdev = 0.5*(1/math.sqrt(2*math.log(2)))*(1/res) \n",
    "\n",
    "up_surface_defn_fn = sympy.exp(-((z - 1)**2)/(2*sdev**2)) # at z = 1\n",
    "lw_surface_defn_fn = sympy.exp(-(z**2)/(2*sdev**2)) # at z = 0"
   ]
  },
  {
   "cell_type": "code",
   "execution_count": 13,
   "id": "543159ea",
   "metadata": {},
   "outputs": [],
   "source": [
    "# functions for calculating the viscous dissipation and adiabatic heating integrals \n",
    "# used for checking - they should be equal\n",
    "visc_diss_int_calc = uw.maths.Integral(meshbox, (Di/Ra)*visc_diss)\n",
    "adiab_heat_int_calc = uw.maths.Integral(meshbox, adiab_heat)"
   ]
  },
  {
   "attachments": {},
   "cell_type": "markdown",
   "id": "d7872123",
   "metadata": {},
   "source": [
    "### Main simulation loop parameters"
   ]
  },
  {
   "cell_type": "code",
   "execution_count": 14,
   "id": "9f54ca8c",
   "metadata": {},
   "outputs": [],
   "source": [
    "t_step = 0\n",
    "time = 0.\n",
    "\n",
    "timeVal =  np.zeros(nsteps)*np.nan      # time values\n",
    "vrmsVal =  np.zeros(nsteps)*np.nan      # v_rms values \n",
    "NuVal =  np.zeros(nsteps)*np.nan        # Nusselt number values\n",
    "viscDissVal = np.zeros(nsteps)*np.nan   # integral of viscous dissipation values\n",
    "adiabHeatVal = np.zeros(nsteps)*np.nan  # integral of adiabatic heating values "
   ]
  },
  {
   "cell_type": "code",
   "execution_count": 15,
   "id": "40c0acc6",
   "metadata": {
    "lines_to_next_cell": 2
   },
   "outputs": [
    {
     "name": "stdout",
     "output_type": "stream",
     "text": [
      "  0 SNES Function norm 188.068 \n",
      "  1 SNES Function norm 0.00108881 \n",
      "Nonlinear stokes_ solve converged due to CONVERGED_FNORM_RELATIVE iterations 1\n",
      "  0 SNES Function norm 0.185986 \n",
      "  1 SNES Function norm 5.28838e-06 \n",
      "Nonlinear adv_diff_ solve converged due to CONVERGED_FNORM_RELATIVE iterations 1\n",
      "  0 SNES Function norm 0.0221764 \n",
      "  1 SNES Function norm 1.76683e-06 \n",
      "Nonlinear SProj_1_ solve converged due to CONVERGED_FNORM_RELATIVE iterations 1\n",
      "Timestep 0, dt 0.0001819189380036967\n",
      "t_rms = 0.58478203631017, v_rms = 20.010929338803475, Nu = 1.0626530247792536\n",
      "Saving checkpoint for time step:  0\n",
      "Saving mesh file\n",
      "  0 SNES Function norm 188.035 \n",
      "  1 SNES Function norm 0.000151742 \n",
      "Nonlinear stokes_ solve converged due to CONVERGED_FNORM_RELATIVE iterations 1\n",
      "  0 SNES Function norm 0.189377 \n",
      "  1 SNES Function norm 5.45424e-06 \n",
      "Nonlinear adv_diff_ solve converged due to CONVERGED_FNORM_RELATIVE iterations 1\n",
      "  0 SNES Function norm 0.0221952 \n",
      "  1 SNES Function norm 1.77142e-06 \n",
      "Nonlinear SProj_1_ solve converged due to CONVERGED_FNORM_RELATIVE iterations 1\n",
      "Timestep 1, dt 0.00017736819009336503\n",
      "t_rms = 0.5846553083876854, v_rms = 20.518734322277947, Nu = 1.0694402039054343\n",
      "  0 SNES Function norm 188.002 \n",
      "  1 SNES Function norm 0.000113881 \n",
      "Nonlinear stokes_ solve converged due to CONVERGED_FNORM_RELATIVE iterations 1\n",
      "  0 SNES Function norm 0.192715 \n",
      "  1 SNES Function norm 5.62973e-06 \n",
      "Nonlinear adv_diff_ solve converged due to CONVERGED_FNORM_RELATIVE iterations 1\n",
      "  0 SNES Function norm 0.0222146 \n",
      "  1 SNES Function norm 1.77715e-06 \n",
      "Nonlinear SProj_1_ solve converged due to CONVERGED_FNORM_RELATIVE iterations 1\n",
      "Timestep 2, dt 0.00017309749081628807\n",
      "t_rms = 0.5845280784202423, v_rms = 21.022040178891324, Nu = 1.0762696637455025\n",
      "  0 SNES Function norm 187.969 \n",
      "  1 SNES Function norm 0.00104754 \n",
      "Nonlinear stokes_ solve converged due to CONVERGED_FNORM_RELATIVE iterations 1\n",
      "  0 SNES Function norm 0.195998 \n",
      "  1 SNES Function norm 5.81065e-06 \n",
      "Nonlinear adv_diff_ solve converged due to CONVERGED_FNORM_RELATIVE iterations 1\n",
      "  0 SNES Function norm 0.0222346 \n",
      "  1 SNES Function norm 1.78374e-06 \n",
      "Nonlinear SProj_1_ solve converged due to CONVERGED_FNORM_RELATIVE iterations 1\n",
      "Timestep 3, dt 0.00016908193810447964\n",
      "t_rms = 0.5844003029371031, v_rms = 21.520455797384315, Nu = 1.083148633061033\n",
      "  0 SNES Function norm 187.936 \n",
      "  1 SNES Function norm 0.000104681 \n",
      "Nonlinear stokes_ solve converged due to CONVERGED_FNORM_RELATIVE iterations 1\n",
      "  0 SNES Function norm 0.199164 \n",
      "  1 SNES Function norm 5.99209e-06 \n",
      "Nonlinear adv_diff_ solve converged due to CONVERGED_FNORM_RELATIVE iterations 1\n",
      "  0 SNES Function norm 0.0222552 \n",
      "  1 SNES Function norm 1.79098e-06 \n",
      "Nonlinear SProj_1_ solve converged due to CONVERGED_FNORM_RELATIVE iterations 1\n",
      "Timestep 4, dt 0.00016525867314639049\n",
      "t_rms = 0.58427202863434, v_rms = 22.01417717806048, Nu = 1.09007922774252\n",
      "Saving mesh file\n"
     ]
    }
   ],
   "source": [
    "#### Convection model / update in time\n",
    "\n",
    "\n",
    "# NOTE: There is a strange interaction here between the solvers if the zero_guess is set to False\n",
    "\n",
    "\n",
    "while t_step < nsteps:\n",
    "    vrmsVal[t_step] = v_rms()\n",
    "    timeVal[t_step] = time\n",
    "\n",
    "    stokes.solve(zero_init_guess=True) # originally True\n",
    "    delta_t = 0.5 * stokes.estimate_dt()\n",
    "    adv_diff.solve(timestep=delta_t, zero_init_guess=False) # originally False\n",
    "\n",
    "    # calculate Nusselt number\n",
    "    dTdZ_calc.solve()\n",
    "    up_int = surface_integral(meshbox, dTdZ.sym[0], up_surface_defn_fn)\n",
    "    lw_int = surface_integral(meshbox, t_soln.sym[0], lw_surface_defn_fn)\n",
    "\n",
    "    Nu = -up_int/lw_int\n",
    "\n",
    "    NuVal[t_step] = -up_int/lw_int\n",
    "\n",
    "    # calculate the integrals of viscous dissipation and adiabatic heating\n",
    "    viscDissVal[t_step] = visc_diss_int_calc.evaluate()\n",
    "    adiabHeatVal[t_step] = adiab_heat_int_calc.evaluate()\n",
    "\n",
    "    # stats then loop\n",
    "    tstats = t_soln.stats()\n",
    "\n",
    "    if uw.mpi.rank == 0:\n",
    "        print(\"Timestep {}, dt {}\".format(t_step, delta_t))\n",
    "            \n",
    "        print(f't_rms = {t_soln.stats()[6]}, v_rms = {vrmsVal[t_step]}, Nu = {NuVal[t_step]}')\n",
    "\n",
    "        ''' save mesh variables together with mesh '''\n",
    "        if t_step % save_every == 0:\n",
    "            print(\"Saving checkpoint for time step: \", t_step)\n",
    "            meshbox.write_timestep_xdmf(filename = outfile, meshVars=[v_soln, p_soln, t_soln, dTdZ, sigma_zz], index=0)\n",
    "\n",
    "\n",
    "   # early stopping criterion\n",
    "    if t_step > 1 and abs((NuVal[t_step] - NuVal[t_step - 1])/NuVal[t_step]) < epsilon_lr:\n",
    "        break\n",
    "\n",
    "    t_step += 1\n",
    "    time   += delta_t\n",
    "\n",
    "\n",
    "# save final mesh variables in the run \n",
    "os.makedirs(\"../EBA_meshes\", exist_ok = True)\n",
    "\n",
    "expt_name = \"EBA_Ra1e4_res\" + str(res)\n",
    "savefile = \"{}_ts{}.h5\".format(expt_name, t_step)\n",
    "\n",
    "# save final mesh variables in the run \n",
    "meshbox.write_timestep_xdmf(filename = outfile, meshVars=[v_soln, p_soln, t_soln, dTdZ, sigma_zz], index=0)"
   ]
  },
  {
   "cell_type": "code",
   "execution_count": 16,
   "id": "8ccde279",
   "metadata": {},
   "outputs": [
    {
     "name": "stdout",
     "output_type": "stream",
     "text": [
      "0.49985538372710825 0.510620908217388\n"
     ]
    }
   ],
   "source": [
    "# calculate the volumne integral of viscous dissipation and adiabatic heating\n",
    "\n",
    "visc_diss_int   = visc_diss_int_calc.evaluate()\n",
    "adiab_heat_int  = adiab_heat_int_calc.evaluate()\n",
    "\n",
    "# both should be close\n",
    "\n",
    "if uw.mpi.rank == 0:\n",
    "    print(visc_diss_int, adiab_heat_int)"
   ]
  },
  {
   "cell_type": "code",
   "execution_count": 17,
   "id": "87486437",
   "metadata": {},
   "outputs": [
    {
     "data": {
      "image/png": "[encoded data removed]",
      "text/plain": [
       "<Figure size 640x480 with 1 Axes>"
      ]
     },
     "metadata": {},
     "output_type": "display_data"
    }
   ],
   "source": [
    "if uw.mpi.rank == 0:\n",
    "        import matplotlib.pyplot as plt\n",
    "        # plot how Nu is evolving through time\n",
    "        fig,ax = plt.subplots(dpi = 100)\n",
    "\n",
    "        #ax.hlines(42.865, 0, 2000, linestyle = \"--\", linewidth = 0.5, color = \"gray\", label = r\"Benchmark $v_{rms}$\")\n",
    "        ax.plot(np.arange((~np.isnan(NuVal)).sum()), \n",
    "                NuVal[~np.isnan(NuVal)], \n",
    "                color = \"k\", \n",
    "                label = str(res) + \" x \" + str(res))\n",
    "\n",
    "        ax.legend()\n",
    "        ax.set_xlabel(\"Time step\")\n",
    "        ax.set_ylabel(r\"$Nu$\", color = \"k\")\n",
    "\n",
    "        #ax.set_xlim([0, 2000])\n",
    "        #ax.set_ylim([0, 100])"
   ]
  },
  {
   "cell_type": "code",
   "execution_count": 18,
   "id": "164fef1b",
   "metadata": {},
   "outputs": [
    {
     "name": "stdout",
     "output_type": "stream",
     "text": [
      "RMS velocity at the final time step is 22.503371856692063.\n",
      "Nusselt number at the final time step is 1.09007922774252.\n"
     ]
    }
   ],
   "source": [
    "# Calculate benchmark values\n",
    "if uw.mpi.rank == 0:\n",
    "    print(\"RMS velocity at the final time step is {}.\".format(v_rms()))\n",
    "    print(\"Nusselt number at the final time step is {}.\".format(Nu))"
   ]
  },
  {
   "attachments": {},
   "cell_type": "markdown",
   "id": "991bf9de",
   "metadata": {},
   "source": [
    "### Post-run analysis - change to EBA values\n",
    "\n",
    "**Benchmark values**\n",
    "The loop above outputs $v_{rms}$ as a general statistic for the system. For further comparison, the benchmark values for the RMS velocity, $v_{rms}$, Nusselt number, $Nu$, and non-dimensional gradients at the cell corners, $q_1$ and $q_2$, are shown below for different Rayleigh numbers. All benchmark values shown below were determined in Blankenbach *et al.* 1989 by extroplation of numerical results. \n",
    "\n",
    "| $Ra$ | $v_{rms}$ | $Nu$ | $q_1$ | $q_2$ |\n",
    "| ------------- |:-------------:|:-----:|:-----:|:-----:|\n",
    "| 10$^4$ | 42.865 | 4.884 | 8.059 | 0.589 |\n",
    "| 10$^5$ | 193.215 | 10.535 | 19.079 | 0.723 |\n",
    "| 10$^6$ | 833.990 | 21.972 | 45.964 | 0.877 |"
   ]
  },
  {
   "cell_type": "code",
   "execution_count": 19,
   "id": "dd597c9d",
   "metadata": {},
   "outputs": [
    {
     "name": "stdout",
     "output_type": "stream",
     "text": [
      "  0 SNES Function norm 0.0222552 \n",
      "  1 SNES Function norm 1.79098e-06 \n",
      "Nonlinear SProj_1_ solve converged due to CONVERGED_FNORM_RELATIVE iterations 1\n"
     ]
    }
   ],
   "source": [
    "# some things to set-up before post-processing\n",
    "\n",
    "# set expression for calculating sigma_zz\n",
    "sigma_zz_fn = stokes.stress[1, 1]\n",
    "\n",
    "dTdZ_calc.solve() # recalculate gradient of T along Z"
   ]
  },
  {
   "attachments": {},
   "cell_type": "markdown",
   "id": "3c394902",
   "metadata": {},
   "source": [
    "### Calculate the $Nu$ value\n",
    "The Nusselt number is defined as: \n",
    "\n",
    "\\begin{aligned}\n",
    "Nu  =   -h\\frac{ \\int_{0}^{l} \\partial_{z}T(x, z = h) dx} {\\int_{0}^{l} T(x, z = 0) dx} \n",
    "\\end{aligned}"
   ]
  },
  {
   "cell_type": "code",
   "execution_count": 20,
   "id": "bffe75ed",
   "metadata": {},
   "outputs": [
    {
     "name": "stdout",
     "output_type": "stream",
     "text": [
      "Calculated value of Nu: 1.09007922774252\n"
     ]
    }
   ],
   "source": [
    "up_int = surface_integral(meshbox, dTdZ.sym[0], up_surface_defn_fn)\n",
    "lw_int = surface_integral(meshbox, t_soln.sym[0], lw_surface_defn_fn)\n",
    "\n",
    "Nu = -up_int/lw_int\n",
    "\n",
    "if uw.mpi.rank == 0:\n",
    "    print(\"Calculated value of Nu: {}\".format(Nu))"
   ]
  },
  {
   "attachments": {},
   "cell_type": "markdown",
   "id": "d5583b50",
   "metadata": {},
   "source": [
    "### Calculate the non-dimensional gradients at the cell corners, $q_i$\n",
    "The non-dimensional temperature gradient at the cell corner, $q_i$, is defined as: \n",
    "\\begin{aligned}\n",
    "q  =  \\frac{-h}{\\Delta T} \\left( \\frac{\\partial T}{\\partial z} \\right)\n",
    "\\end{aligned}\n",
    "   \n",
    "Note that these values depend on the non-dimensional temperature gradient in the vertical direction, $\\frac{\\partial T}{\\partial z}$.\n",
    "These gradients are evaluated at the following points:\n",
    "\n",
    "$q_1$ at $x=0$, $z=h$; $q_2$ at $x=l$, $z=h$;\n",
    "\n",
    "$q_3$ at $x=l$, $z=0$; $q_4$ at $x=0$, $z=0$.   "
   ]
  },
  {
   "cell_type": "code",
   "execution_count": 21,
   "id": "89d61d3c",
   "metadata": {},
   "outputs": [
    {
     "name": "stdout",
     "output_type": "stream",
     "text": [
      "Rayleigh number = 1.0e+04\n",
      "q1 = 1.513; q2 = 0.654\n",
      "q3 = 1.393; q4 = 0.652\n"
     ]
    }
   ],
   "source": [
    "# calculate q values which depend on the temperature gradient fields\n",
    "\n",
    "# NOTE: for quadratic elements, may need to set boundary value (e.g. boxHeight) to 0.99999*value (e.g. 0.9999*boxHeight)\n",
    "q1 = -(boxHeight/(tempMax - tempMin))*uw.function.evaluate(dTdZ.sym[0], np.array([[0., boxHeight]]))[0]\n",
    "q2 = -(boxHeight/(tempMax - tempMin))*uw.function.evaluate(dTdZ.sym[0], np.array([[boxLength, boxHeight]]))[0]\n",
    "q3 = -(boxHeight/(tempMax - tempMin))*uw.function.evaluate(dTdZ.sym[0], np.array([[boxLength, 0.]]))[0]\n",
    "q4 = -(boxHeight/(tempMax - tempMin))*uw.function.evaluate(dTdZ.sym[0], np.array([[0., 0.]]))[0]\n",
    "\n",
    "if uw.mpi.rank == 0:\n",
    "    print('Rayleigh number = {0:.1e}'.format(Ra))\n",
    "    print('q1 = {0:.3f}; q2 = {1:.3f}'.format(q1, q2))\n",
    "    print('q3 = {0:.3f}; q4 = {1:.3f}'.format(q3, q4))"
   ]
  },
  {
   "attachments": {},
   "cell_type": "markdown",
   "id": "24f29b62",
   "metadata": {},
   "source": [
    "### Calculate the stress for comparison with benchmark value\n",
    "\n",
    "The stress field for whole box in dimensionless units (King 2009) is:\n",
    "\\begin{equation}\n",
    "\\tau_{ij} = \\eta \\frac{1}{2} \\left[ \\frac{\\partial v_j}{\\partial x_i} + \\frac{\\partial v_i}{\\partial x_j}\\right].\n",
    "\\end{equation}\n",
    "For vertical normal stress it becomes:\n",
    "\\begin{equation}\n",
    "\\tau_{zz} = \\eta \\frac{1}{2} \\left[ \\frac{\\partial v_z}{\\partial z} + \\frac{\\partial v_z}{\\partial z}\\right] = \\eta \\frac{\\partial v_z}{\\partial z}.\n",
    "\\end{equation}\n",
    "This is calculated below."
   ]
  },
  {
   "cell_type": "code",
   "execution_count": 22,
   "id": "184f688b",
   "metadata": {},
   "outputs": [
    {
     "name": "stdout",
     "output_type": "stream",
     "text": [
      "  0 SNES Function norm 48.4741 \n",
      "  1 SNES Function norm 0.00197438 \n",
      "Nonlinear SProj_2_ solve converged due to CONVERGED_FNORM_RELATIVE iterations 1\n"
     ]
    }
   ],
   "source": [
    "# projection object for the stress in the zz direction\n",
    "\n",
    "stress_calc = uw.systems.Projection(meshbox, sigma_zz)\n",
    "stress_calc.uw_function = sigma_zz_fn\n",
    "stress_calc.smoothing = 1.0e-3\n",
    "stress_calc.petsc_options.delValue(\"ksp_monitor\")\n",
    "stress_calc.solve()"
   ]
  },
  {
   "attachments": {},
   "cell_type": "markdown",
   "id": "d0fc01e9",
   "metadata": {},
   "source": [
    "The vertical normal stress is dimensionalised as: \n",
    "\n",
    "$$\n",
    "    \\sigma_{t} = \\frac{\\eta_0 \\kappa}{\\rho g h^2}\\tau _{zz} \\left( x, z=h\\right)\n",
    "$$\n",
    "\n",
    "where all constants are defined below. \n",
    "\n",
    "Finally, we calculate the topography defined using $h = \\sigma_{top} / (\\rho g)$. The topography of the top boundary calculated in the left and right corners as given in Table 9 of Blankenbach et al 1989 are:\n",
    "\n",
    "| $Ra$          |    $\\xi_1$  | $\\xi_2$  |  $x$ ($\\xi = 0$) |\n",
    "| ------------- |:-----------:|:--------:|:--------------:|\n",
    "| 10$^4$  | 2254.02   | -2903.23  | 0.539372          |\n",
    "| 10$^5$  | 1460.99   | -2004.20  | 0.529330          |\n",
    "| 10$^6$  | 931.96   | -1283.80  | 0.506490          |"
   ]
  },
  {
   "cell_type": "code",
   "execution_count": 23,
   "id": "7074d3e5",
   "metadata": {},
   "outputs": [],
   "source": [
    "# subtract the average value for the benchmark since the mean is set to zero \n",
    "\n",
    "mean_sigma_zz_top = -surface_integral(meshbox, \n",
    "                                     sigma_zz.sym[0], \n",
    "                                     up_surface_defn_fn)/boxLength\n"
   ]
  },
  {
   "cell_type": "code",
   "execution_count": 24,
   "id": "e83db7fb",
   "metadata": {},
   "outputs": [],
   "source": [
    "# Set parameters in SI units\n",
    "\n",
    "grav = 10        # m.s^-2\n",
    "height = 1.e6    # m \n",
    "rho  = 4.0e3     # g.m^-3\n",
    "kappa  = 1.0e-6  # m^2.s^-1\n",
    "\n",
    "eta0=1.e23\n",
    "\n",
    "def calculate_topography(coord): # only coord has local scope\n",
    "\n",
    "    sigma_zz_top = -uw.function.evaluate(sigma_zz.sym[0], coord) - mean_sigma_zz_top\n",
    "    \n",
    "    # dimensionalise \n",
    "    dim_sigma_zz_top  = ((eta0 * kappa) / (height**2)) * sigma_zz_top\n",
    "    topography = dim_sigma_zz_top / (rho * grav)\n",
    "    \n",
    "    return topography\n",
    "\n"
   ]
  },
  {
   "cell_type": "code",
   "execution_count": 25,
   "id": "6152fec0",
   "metadata": {},
   "outputs": [
    {
     "name": "stdout",
     "output_type": "stream",
     "text": [
      "Topography [x=0], [x=max] = 1007.98, -989.19\n",
      "x where topo = 0 is at 0.500000\n"
     ]
    }
   ],
   "source": [
    "# topography at the top corners \n",
    "e1 = calculate_topography(np.array([[0, boxHeight]]))\n",
    "e2 = calculate_topography(np.array([[boxLength, boxHeight]]))\n",
    "\n",
    "# calculate the x-coordinate with zero stress\n",
    "with meshbox.access():\n",
    "    cond = meshbox.data[:, 1] == meshbox.data[:, 1].max()\n",
    "    up_surface_coords = meshbox.data[cond]\n",
    "    up_surface_coords[:, 1] = 0.999999*up_surface_coords[:, 1]\n",
    "\n",
    "abs_topo = abs(calculate_topography(up_surface_coords))\n",
    "\n",
    "min_abs_topo_coord = up_surface_coords[np.where(abs_topo == abs_topo.min())[0]].flatten()\n",
    "\n",
    "if uw.mpi.rank == 0:\n",
    "    print(\"Topography [x=0], [x=max] = {0:.2f}, {1:.2f}\".format(e1[0], e2[0]))\n",
    "    print(\"x where topo = 0 is at {0:.6f}\".format(min_abs_topo_coord[0]))"
   ]
  }
 ],
 "metadata": {
  "jupytext": {
   "cell_metadata_filter": "-all",
   "main_language": "python",
   "notebook_metadata_filter": "-all"
  },
  "kernelspec": {
   "display_name": "uw3",
   "language": "python",
   "name": "python3"
  },
  "language_info": {
   "codemirror_mode": {
    "name": "ipython",
    "version": 3
   },
   "file_extension": ".py",
   "mimetype": "text/x-python",
   "name": "python",
   "nbconvert_exporter": "python",
   "pygments_lexer": "ipython3",
   "version": "3.10.9"
  }
 },
 "nbformat": 4,
 "nbformat_minor": 5
}
