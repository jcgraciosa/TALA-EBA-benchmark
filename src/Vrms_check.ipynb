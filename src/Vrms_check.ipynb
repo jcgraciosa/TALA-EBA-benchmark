{
 "cells": [
  {
   "attachments": {},
   "cell_type": "markdown",
   "metadata": {},
   "source": [
    "### Check $V_{rms}$ function"
   ]
  },
  {
   "cell_type": "code",
   "execution_count": 98,
   "metadata": {},
   "outputs": [],
   "source": [
    "# # Constant viscosity convection, Cartesian domain (benchmark)\n",
    "#\n",
    "#\n",
    "#\n",
    "# This example solves 2D dimensionless isoviscous thermal convection with a Rayleigh number, for comparison with the [Blankenbach et al. (1989) benchmark](https://academic.oup.com/gji/article/98/1/23/622167).\n",
    "#\n",
    "# We set up a v, p, T system in which we will solve for a steady-state T field in response to thermal boundary conditions and then use the steady-state T field to compute a stokes flow in response.\n",
    "\n",
    "# +tolerace\n",
    "import os\n",
    "os.environ[\"UW_TIMING_ENABLE\"] = \"1\"\n",
    "import petsc4py\n",
    "from petsc4py import PETSc\n",
    "\n",
    "\n",
    "import underworld3 as uw\n",
    "from underworld3.systems import Stokes\n",
    "from underworld3 import function\n",
    "\n",
    "import numpy as np\n",
    "import sympy\n"
   ]
  },
  {
   "cell_type": "code",
   "execution_count": 99,
   "metadata": {},
   "outputs": [],
   "source": [
    "res = 48"
   ]
  },
  {
   "cell_type": "code",
   "execution_count": 100,
   "metadata": {},
   "outputs": [
    {
     "name": "stdout",
     "output_type": "stream",
     "text": [
      "Processing gmsh file .meshes/uw_simplexbox_minC(0.0, 0.0)_maxC(1.0, 1.0)_csize0.020833333333333332_regFalse.msh\n",
      "Mesh saved to .meshes/uw_simplexbox_minC(0.0, 0.0)_maxC(1.0, 1.0)_csize0.020833333333333332_regFalse.msh.h5\n"
     ]
    }
   ],
   "source": [
    "# +\n",
    "meshbox = uw.meshing.UnstructuredSimplexBox(\n",
    "    minCoords=(0.0, 0.0), maxCoords=(1.0, 1.0), cellSize=1.0 / res, regular=False, qdegree=3\n",
    ")\n",
    "\n",
    "v_soln = uw.discretisation.MeshVariable(\"U\", meshbox, meshbox.dim, degree=2)"
   ]
  },
  {
   "cell_type": "code",
   "execution_count": 101,
   "metadata": {},
   "outputs": [],
   "source": [
    "# underworld3 function for calculating the rms velocity \n",
    "import math\n",
    "\n",
    "def v_rms(mesh = meshbox, v_solution = v_soln): \n",
    "    # v_soln must be a variable of mesh\n",
    "    v_rms = math.sqrt(uw.maths.Integral(mesh, v_solution.fn.dot(v_solution.fn)).evaluate())\n",
    "    #v_rms = uw.maths.Integral(mesh, v_solution.fn.dot(v_solution.fn)).evaluate()\n",
    "    return v_rms\n"
   ]
  },
  {
   "cell_type": "code",
   "execution_count": 106,
   "metadata": {},
   "outputs": [
    {
     "data": {
      "text/latex": [
       "$\\displaystyle 1$"
      ],
      "text/plain": [
       "1"
      ]
     },
     "execution_count": 106,
     "metadata": {},
     "output_type": "execute_result"
    }
   ],
   "source": [
    "x = sympy.Symbol('x')\n",
    "z = sympy.Symbol('z')\n",
    "# fx  = sympy.exp(x)\n",
    "# fz = sympy.exp(z)\n",
    "fx  = sympy.cos(x)\n",
    "fz = sympy.sin(z)\n",
    "int1 = sympy.integrate(fx*fx + fz*fz, (x, 0, 1))\n",
    "final_int = sympy.integrate(int1, (z, 0, 1))\n",
    "final_int"
   ]
  },
  {
   "cell_type": "code",
   "execution_count": 109,
   "metadata": {},
   "outputs": [],
   "source": [
    "with meshbox.access(v_soln):\n",
    "    for i, coord in enumerate(v_soln.coords):\n",
    "        v_soln.data[i, 0] = math.exp(coord[0])\n",
    "        v_soln.data[i, 1] = math.exp(coord[1])\n",
    "        v_soln.data[i, 0] = math.cos(coord[0])\n",
    "        v_soln.data[i, 1] = math.sin(coord[1])\n",
    "        #print(coord)"
   ]
  },
  {
   "cell_type": "code",
   "execution_count": 110,
   "metadata": {},
   "outputs": [
    {
     "data": {
      "text/plain": [
       "0.99999999989184"
      ]
     },
     "execution_count": 110,
     "metadata": {},
     "output_type": "execute_result"
    }
   ],
   "source": [
    "v_rms(meshbox, v_soln)"
   ]
  },
  {
   "cell_type": "code",
   "execution_count": 111,
   "metadata": {},
   "outputs": [
    {
     "name": "stdout",
     "output_type": "stream",
     "text": [
      "2.5276582243117147\n"
     ]
    }
   ],
   "source": [
    "# the analytical solution\n",
    "exp_vrms = math.sqrt(math.exp(2) - 1)\n",
    "print(exp_vrms)"
   ]
  },
  {
   "cell_type": "code",
   "execution_count": null,
   "metadata": {},
   "outputs": [],
   "source": []
  }
 ],
 "metadata": {
  "kernelspec": {
   "display_name": "uw3",
   "language": "python",
   "name": "python3"
  },
  "language_info": {
   "codemirror_mode": {
    "name": "ipython",
    "version": 3
   },
   "file_extension": ".py",
   "mimetype": "text/x-python",
   "name": "python",
   "nbconvert_exporter": "python",
   "pygments_lexer": "ipython3",
   "version": "3.10.9"
  },
  "orig_nbformat": 4
 },
 "nbformat": 4,
 "nbformat_minor": 2
}
